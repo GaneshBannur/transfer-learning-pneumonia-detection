{
 "cells": [
  {
   "cell_type": "code",
   "execution_count": 1,
   "metadata": {},
   "outputs": [],
   "source": [
    "from keras.utils import image_dataset_from_directory, set_random_seed\n",
    "from keras.models import load_model\n",
    "import matplotlib.pyplot as plt\n",
    "from numpy import asarray\n",
    "from pickle import load\n",
    "from collections import Counter"
   ]
  },
  {
   "cell_type": "code",
   "execution_count": 2,
   "metadata": {},
   "outputs": [],
   "source": [
    "set_random_seed(10)"
   ]
  },
  {
   "cell_type": "code",
   "execution_count": 3,
   "metadata": {},
   "outputs": [],
   "source": [
    "img_size = (256, 256)\n",
    "class_names = ['NORMAL', 'PNEUMONIA']\n",
    "dataset_dir = '/Users/snoopy/Desktop/Other/Harvard/Final Project/pediatric-chest-xrays/chest_xray'\n",
    "color_mode = 'rgb'\n",
    "num_channels = 3"
   ]
  },
  {
   "cell_type": "code",
   "execution_count": 4,
   "metadata": {},
   "outputs": [
    {
     "name": "stdout",
     "output_type": "stream",
     "text": [
      "Found 624 files belonging to 2 classes.\n",
      "Metal device set to: Apple M1\n",
      "\n",
      "systemMemory: 16.00 GB\n",
      "maxCacheSize: 5.33 GB\n",
      "\n"
     ]
    },
    {
     "name": "stderr",
     "output_type": "stream",
     "text": [
      "2022-07-31 16:52:11.589269: I tensorflow/core/common_runtime/pluggable_device/pluggable_device_factory.cc:305] Could not identify NUMA node of platform GPU ID 0, defaulting to 0. Your kernel may not have been built with NUMA support.\n",
      "2022-07-31 16:52:11.589374: I tensorflow/core/common_runtime/pluggable_device/pluggable_device_factory.cc:271] Created TensorFlow device (/job:localhost/replica:0/task:0/device:GPU:0 with 0 MB memory) -> physical PluggableDevice (device: 0, name: METAL, pci bus id: <undefined>)\n"
     ]
    }
   ],
   "source": [
    "test_data = image_dataset_from_directory(directory=dataset_dir+'/test',\n",
    "                                          label_mode='binary',\n",
    "                                          class_names=class_names,\n",
    "                                          color_mode=color_mode,\n",
    "                                          image_size=img_size)"
   ]
  },
  {
   "cell_type": "code",
   "execution_count": 5,
   "metadata": {},
   "outputs": [],
   "source": [
    "model = load_model('/Users/snoopy/Desktop/Other/Harvard/Final Project/pediatric-chest-xrays/pediatric-resnet-weighted/pediatric_resnet18_weighted')"
   ]
  },
  {
   "cell_type": "code",
   "execution_count": 6,
   "metadata": {},
   "outputs": [
    {
     "name": "stdout",
     "output_type": "stream",
     "text": [
      "Model: \"resnet_18_classifier\"\n",
      "__________________________________________________________________________________________________\n",
      " Layer (type)                   Output Shape         Param #     Connected to                     \n",
      "==================================================================================================\n",
      " input_1 (InputLayer)           [(None, 256, 256, 3  0           []                               \n",
      "                                )]                                                                \n",
      "                                                                                                  \n",
      " rescaling (Rescaling)          (None, 256, 256, 3)  0           ['input_1[0][0]']                \n",
      "                                                                                                  \n",
      " bn_data (BatchNormalization)   (None, 256, 256, 3)  9           ['rescaling[0][0]']              \n",
      "                                                                                                  \n",
      " zero_padding2d (ZeroPadding2D)  (None, 262, 262, 3)  0          ['bn_data[0][0]']                \n",
      "                                                                                                  \n",
      " conv0 (Conv2D)                 (None, 128, 128, 64  9408        ['zero_padding2d[0][0]']         \n",
      "                                )                                                                 \n",
      "                                                                                                  \n",
      " bn0 (BatchNormalization)       (None, 128, 128, 64  256         ['conv0[0][0]']                  \n",
      "                                )                                                                 \n",
      "                                                                                                  \n",
      " relu0 (Activation)             (None, 128, 128, 64  0           ['bn0[0][0]']                    \n",
      "                                )                                                                 \n",
      "                                                                                                  \n",
      " zero_padding2d_1 (ZeroPadding2  (None, 130, 130, 64  0          ['relu0[0][0]']                  \n",
      " D)                             )                                                                 \n",
      "                                                                                                  \n",
      " pooling0 (MaxPooling2D)        (None, 64, 64, 64)   0           ['zero_padding2d_1[0][0]']       \n",
      "                                                                                                  \n",
      " stage1_unit1_bn1 (BatchNormali  (None, 64, 64, 64)  256         ['pooling0[0][0]']               \n",
      " zation)                                                                                          \n",
      "                                                                                                  \n",
      " stage1_unit1_relu1 (Activation  (None, 64, 64, 64)  0           ['stage1_unit1_bn1[0][0]']       \n",
      " )                                                                                                \n",
      "                                                                                                  \n",
      " zero_padding2d_2 (ZeroPadding2  (None, 66, 66, 64)  0           ['stage1_unit1_relu1[0][0]']     \n",
      " D)                                                                                               \n",
      "                                                                                                  \n",
      " stage1_unit1_conv1 (Conv2D)    (None, 64, 64, 64)   36864       ['zero_padding2d_2[0][0]']       \n",
      "                                                                                                  \n",
      " stage1_unit1_bn2 (BatchNormali  (None, 64, 64, 64)  256         ['stage1_unit1_conv1[0][0]']     \n",
      " zation)                                                                                          \n",
      "                                                                                                  \n",
      " stage1_unit1_relu2 (Activation  (None, 64, 64, 64)  0           ['stage1_unit1_bn2[0][0]']       \n",
      " )                                                                                                \n",
      "                                                                                                  \n",
      " zero_padding2d_3 (ZeroPadding2  (None, 66, 66, 64)  0           ['stage1_unit1_relu2[0][0]']     \n",
      " D)                                                                                               \n",
      "                                                                                                  \n",
      " stage1_unit1_conv2 (Conv2D)    (None, 64, 64, 64)   36864       ['zero_padding2d_3[0][0]']       \n",
      "                                                                                                  \n",
      " stage1_unit1_sc (Conv2D)       (None, 64, 64, 64)   4096        ['stage1_unit1_relu1[0][0]']     \n",
      "                                                                                                  \n",
      " add (Add)                      (None, 64, 64, 64)   0           ['stage1_unit1_conv2[0][0]',     \n",
      "                                                                  'stage1_unit1_sc[0][0]']        \n",
      "                                                                                                  \n",
      " stage1_unit2_bn1 (BatchNormali  (None, 64, 64, 64)  256         ['add[0][0]']                    \n",
      " zation)                                                                                          \n",
      "                                                                                                  \n",
      " stage1_unit2_relu1 (Activation  (None, 64, 64, 64)  0           ['stage1_unit2_bn1[0][0]']       \n",
      " )                                                                                                \n",
      "                                                                                                  \n",
      " zero_padding2d_4 (ZeroPadding2  (None, 66, 66, 64)  0           ['stage1_unit2_relu1[0][0]']     \n",
      " D)                                                                                               \n",
      "                                                                                                  \n",
      " stage1_unit2_conv1 (Conv2D)    (None, 64, 64, 64)   36864       ['zero_padding2d_4[0][0]']       \n",
      "                                                                                                  \n",
      " stage1_unit2_bn2 (BatchNormali  (None, 64, 64, 64)  256         ['stage1_unit2_conv1[0][0]']     \n",
      " zation)                                                                                          \n",
      "                                                                                                  \n",
      " stage1_unit2_relu2 (Activation  (None, 64, 64, 64)  0           ['stage1_unit2_bn2[0][0]']       \n",
      " )                                                                                                \n",
      "                                                                                                  \n",
      " zero_padding2d_5 (ZeroPadding2  (None, 66, 66, 64)  0           ['stage1_unit2_relu2[0][0]']     \n",
      " D)                                                                                               \n",
      "                                                                                                  \n",
      " stage1_unit2_conv2 (Conv2D)    (None, 64, 64, 64)   36864       ['zero_padding2d_5[0][0]']       \n",
      "                                                                                                  \n",
      " add_1 (Add)                    (None, 64, 64, 64)   0           ['stage1_unit2_conv2[0][0]',     \n",
      "                                                                  'add[0][0]']                    \n",
      "                                                                                                  \n",
      " stage2_unit1_bn1 (BatchNormali  (None, 64, 64, 64)  256         ['add_1[0][0]']                  \n",
      " zation)                                                                                          \n",
      "                                                                                                  \n",
      " stage2_unit1_relu1 (Activation  (None, 64, 64, 64)  0           ['stage2_unit1_bn1[0][0]']       \n",
      " )                                                                                                \n",
      "                                                                                                  \n",
      " zero_padding2d_6 (ZeroPadding2  (None, 66, 66, 64)  0           ['stage2_unit1_relu1[0][0]']     \n",
      " D)                                                                                               \n",
      "                                                                                                  \n",
      " stage2_unit1_conv1 (Conv2D)    (None, 32, 32, 128)  73728       ['zero_padding2d_6[0][0]']       \n",
      "                                                                                                  \n",
      " stage2_unit1_bn2 (BatchNormali  (None, 32, 32, 128)  512        ['stage2_unit1_conv1[0][0]']     \n",
      " zation)                                                                                          \n",
      "                                                                                                  \n",
      " stage2_unit1_relu2 (Activation  (None, 32, 32, 128)  0          ['stage2_unit1_bn2[0][0]']       \n",
      " )                                                                                                \n",
      "                                                                                                  \n",
      " zero_padding2d_7 (ZeroPadding2  (None, 34, 34, 128)  0          ['stage2_unit1_relu2[0][0]']     \n",
      " D)                                                                                               \n",
      "                                                                                                  \n",
      " stage2_unit1_conv2 (Conv2D)    (None, 32, 32, 128)  147456      ['zero_padding2d_7[0][0]']       \n",
      "                                                                                                  \n",
      " stage2_unit1_sc (Conv2D)       (None, 32, 32, 128)  8192        ['stage2_unit1_relu1[0][0]']     \n",
      "                                                                                                  \n",
      " add_2 (Add)                    (None, 32, 32, 128)  0           ['stage2_unit1_conv2[0][0]',     \n",
      "                                                                  'stage2_unit1_sc[0][0]']        \n",
      "                                                                                                  \n",
      " stage2_unit2_bn1 (BatchNormali  (None, 32, 32, 128)  512        ['add_2[0][0]']                  \n",
      " zation)                                                                                          \n",
      "                                                                                                  \n",
      " stage2_unit2_relu1 (Activation  (None, 32, 32, 128)  0          ['stage2_unit2_bn1[0][0]']       \n",
      " )                                                                                                \n",
      "                                                                                                  \n",
      " zero_padding2d_8 (ZeroPadding2  (None, 34, 34, 128)  0          ['stage2_unit2_relu1[0][0]']     \n",
      " D)                                                                                               \n",
      "                                                                                                  \n",
      " stage2_unit2_conv1 (Conv2D)    (None, 32, 32, 128)  147456      ['zero_padding2d_8[0][0]']       \n",
      "                                                                                                  \n",
      " stage2_unit2_bn2 (BatchNormali  (None, 32, 32, 128)  512        ['stage2_unit2_conv1[0][0]']     \n",
      " zation)                                                                                          \n",
      "                                                                                                  \n",
      " stage2_unit2_relu2 (Activation  (None, 32, 32, 128)  0          ['stage2_unit2_bn2[0][0]']       \n",
      " )                                                                                                \n",
      "                                                                                                  \n",
      " zero_padding2d_9 (ZeroPadding2  (None, 34, 34, 128)  0          ['stage2_unit2_relu2[0][0]']     \n",
      " D)                                                                                               \n",
      "                                                                                                  \n",
      " stage2_unit2_conv2 (Conv2D)    (None, 32, 32, 128)  147456      ['zero_padding2d_9[0][0]']       \n",
      "                                                                                                  \n",
      " add_3 (Add)                    (None, 32, 32, 128)  0           ['stage2_unit2_conv2[0][0]',     \n",
      "                                                                  'add_2[0][0]']                  \n",
      "                                                                                                  \n",
      " stage3_unit1_bn1 (BatchNormali  (None, 32, 32, 128)  512        ['add_3[0][0]']                  \n",
      " zation)                                                                                          \n",
      "                                                                                                  \n",
      " stage3_unit1_relu1 (Activation  (None, 32, 32, 128)  0          ['stage3_unit1_bn1[0][0]']       \n",
      " )                                                                                                \n",
      "                                                                                                  \n",
      " zero_padding2d_10 (ZeroPadding  (None, 34, 34, 128)  0          ['stage3_unit1_relu1[0][0]']     \n",
      " 2D)                                                                                              \n",
      "                                                                                                  \n",
      " stage3_unit1_conv1 (Conv2D)    (None, 16, 16, 256)  294912      ['zero_padding2d_10[0][0]']      \n",
      "                                                                                                  \n",
      " stage3_unit1_bn2 (BatchNormali  (None, 16, 16, 256)  1024       ['stage3_unit1_conv1[0][0]']     \n",
      " zation)                                                                                          \n",
      "                                                                                                  \n",
      " stage3_unit1_relu2 (Activation  (None, 16, 16, 256)  0          ['stage3_unit1_bn2[0][0]']       \n",
      " )                                                                                                \n",
      "                                                                                                  \n",
      " zero_padding2d_11 (ZeroPadding  (None, 18, 18, 256)  0          ['stage3_unit1_relu2[0][0]']     \n",
      " 2D)                                                                                              \n",
      "                                                                                                  \n",
      " stage3_unit1_conv2 (Conv2D)    (None, 16, 16, 256)  589824      ['zero_padding2d_11[0][0]']      \n",
      "                                                                                                  \n",
      " stage3_unit1_sc (Conv2D)       (None, 16, 16, 256)  32768       ['stage3_unit1_relu1[0][0]']     \n",
      "                                                                                                  \n",
      " add_4 (Add)                    (None, 16, 16, 256)  0           ['stage3_unit1_conv2[0][0]',     \n",
      "                                                                  'stage3_unit1_sc[0][0]']        \n",
      "                                                                                                  \n",
      " stage3_unit2_bn1 (BatchNormali  (None, 16, 16, 256)  1024       ['add_4[0][0]']                  \n",
      " zation)                                                                                          \n",
      "                                                                                                  \n",
      " stage3_unit2_relu1 (Activation  (None, 16, 16, 256)  0          ['stage3_unit2_bn1[0][0]']       \n",
      " )                                                                                                \n",
      "                                                                                                  \n",
      " zero_padding2d_12 (ZeroPadding  (None, 18, 18, 256)  0          ['stage3_unit2_relu1[0][0]']     \n",
      " 2D)                                                                                              \n",
      "                                                                                                  \n",
      " stage3_unit2_conv1 (Conv2D)    (None, 16, 16, 256)  589824      ['zero_padding2d_12[0][0]']      \n",
      "                                                                                                  \n",
      " stage3_unit2_bn2 (BatchNormali  (None, 16, 16, 256)  1024       ['stage3_unit2_conv1[0][0]']     \n",
      " zation)                                                                                          \n",
      "                                                                                                  \n",
      " stage3_unit2_relu2 (Activation  (None, 16, 16, 256)  0          ['stage3_unit2_bn2[0][0]']       \n",
      " )                                                                                                \n",
      "                                                                                                  \n",
      " zero_padding2d_13 (ZeroPadding  (None, 18, 18, 256)  0          ['stage3_unit2_relu2[0][0]']     \n",
      " 2D)                                                                                              \n",
      "                                                                                                  \n",
      " stage3_unit2_conv2 (Conv2D)    (None, 16, 16, 256)  589824      ['zero_padding2d_13[0][0]']      \n",
      "                                                                                                  \n",
      " add_5 (Add)                    (None, 16, 16, 256)  0           ['stage3_unit2_conv2[0][0]',     \n",
      "                                                                  'add_4[0][0]']                  \n",
      "                                                                                                  \n",
      " stage4_unit1_bn1 (BatchNormali  (None, 16, 16, 256)  1024       ['add_5[0][0]']                  \n",
      " zation)                                                                                          \n",
      "                                                                                                  \n",
      " stage4_unit1_relu1 (Activation  (None, 16, 16, 256)  0          ['stage4_unit1_bn1[0][0]']       \n",
      " )                                                                                                \n",
      "                                                                                                  \n",
      " zero_padding2d_14 (ZeroPadding  (None, 18, 18, 256)  0          ['stage4_unit1_relu1[0][0]']     \n",
      " 2D)                                                                                              \n",
      "                                                                                                  \n",
      " stage4_unit1_conv1 (Conv2D)    (None, 8, 8, 512)    1179648     ['zero_padding2d_14[0][0]']      \n",
      "                                                                                                  \n",
      " stage4_unit1_bn2 (BatchNormali  (None, 8, 8, 512)   2048        ['stage4_unit1_conv1[0][0]']     \n",
      " zation)                                                                                          \n",
      "                                                                                                  \n",
      " stage4_unit1_relu2 (Activation  (None, 8, 8, 512)   0           ['stage4_unit1_bn2[0][0]']       \n",
      " )                                                                                                \n",
      "                                                                                                  \n",
      " zero_padding2d_15 (ZeroPadding  (None, 10, 10, 512)  0          ['stage4_unit1_relu2[0][0]']     \n",
      " 2D)                                                                                              \n",
      "                                                                                                  \n",
      " stage4_unit1_conv2 (Conv2D)    (None, 8, 8, 512)    2359296     ['zero_padding2d_15[0][0]']      \n",
      "                                                                                                  \n",
      " stage4_unit1_sc (Conv2D)       (None, 8, 8, 512)    131072      ['stage4_unit1_relu1[0][0]']     \n",
      "                                                                                                  \n",
      " add_6 (Add)                    (None, 8, 8, 512)    0           ['stage4_unit1_conv2[0][0]',     \n",
      "                                                                  'stage4_unit1_sc[0][0]']        \n",
      "                                                                                                  \n",
      " stage4_unit2_bn1 (BatchNormali  (None, 8, 8, 512)   2048        ['add_6[0][0]']                  \n",
      " zation)                                                                                          \n",
      "                                                                                                  \n",
      " stage4_unit2_relu1 (Activation  (None, 8, 8, 512)   0           ['stage4_unit2_bn1[0][0]']       \n",
      " )                                                                                                \n",
      "                                                                                                  \n",
      " zero_padding2d_16 (ZeroPadding  (None, 10, 10, 512)  0          ['stage4_unit2_relu1[0][0]']     \n",
      " 2D)                                                                                              \n",
      "                                                                                                  \n",
      " stage4_unit2_conv1 (Conv2D)    (None, 8, 8, 512)    2359296     ['zero_padding2d_16[0][0]']      \n",
      "                                                                                                  \n",
      " stage4_unit2_bn2 (BatchNormali  (None, 8, 8, 512)   2048        ['stage4_unit2_conv1[0][0]']     \n",
      " zation)                                                                                          \n",
      "                                                                                                  \n",
      " stage4_unit2_relu2 (Activation  (None, 8, 8, 512)   0           ['stage4_unit2_bn2[0][0]']       \n",
      " )                                                                                                \n",
      "                                                                                                  \n",
      " zero_padding2d_17 (ZeroPadding  (None, 10, 10, 512)  0          ['stage4_unit2_relu2[0][0]']     \n",
      " 2D)                                                                                              \n",
      "                                                                                                  \n",
      " stage4_unit2_conv2 (Conv2D)    (None, 8, 8, 512)    2359296     ['zero_padding2d_17[0][0]']      \n",
      "                                                                                                  \n",
      " add_7 (Add)                    (None, 8, 8, 512)    0           ['stage4_unit2_conv2[0][0]',     \n",
      "                                                                  'add_6[0][0]']                  \n",
      "                                                                                                  \n",
      " bn1 (BatchNormalization)       (None, 8, 8, 512)    2048        ['add_7[0][0]']                  \n",
      "                                                                                                  \n",
      " relu1 (Activation)             (None, 8, 8, 512)    0           ['bn1[0][0]']                    \n",
      "                                                                                                  \n",
      " global_average_pooling2d (Glob  (None, 512)         0           ['relu1[0][0]']                  \n",
      " alAveragePooling2D)                                                                              \n",
      "                                                                                                  \n",
      " dense (Dense)                  (None, 1)            513         ['global_average_pooling2d[0][0]'\n",
      "                                                                 ]                                \n",
      "                                                                                                  \n",
      "==================================================================================================\n",
      "Total params: 11,187,402\n",
      "Trainable params: 11,179,460\n",
      "Non-trainable params: 7,942\n",
      "__________________________________________________________________________________________________\n"
     ]
    }
   ],
   "source": [
    "model.summary()"
   ]
  },
  {
   "cell_type": "code",
   "execution_count": 7,
   "metadata": {},
   "outputs": [],
   "source": [
    "with open('/Users/snoopy/Desktop/Other/Harvard/Final Project/pediatric-chest-xrays/pediatric-resnet-weighted/pediatric_resnet18_weighted_history_dump', 'rb') as f:\n",
    "    history = load(f)"
   ]
  },
  {
   "cell_type": "code",
   "execution_count": 8,
   "metadata": {},
   "outputs": [],
   "source": [
    "train_precision = asarray(history.history['precision'])\n",
    "train_recall = asarray(history.history['recall'])\n",
    "val_precision = asarray(history.history['val_precision'])\n",
    "val_recall = asarray(history.history['val_recall'])\n",
    "train_f1 = 2./(1./train_precision+1./train_recall)\n",
    "val_f1 = 2./(1./val_precision+1./val_recall)"
   ]
  },
  {
   "cell_type": "code",
   "execution_count": 9,
   "metadata": {},
   "outputs": [],
   "source": [
    "epochs = range(len(history.history['loss']))"
   ]
  },
  {
   "cell_type": "code",
   "execution_count": 10,
   "metadata": {},
   "outputs": [
    {
     "name": "stdout",
     "output_type": "stream",
     "text": [
      "Train precision:  1.0\n",
      "Train recall:  1.0\n",
      "Validation precision:  0.9973753094673157\n",
      "Validation recall:  0.9986860156059265\n",
      "F1 score in train set:  1.0\n",
      "F1 score on validation set:  0.9980302322015006\n"
     ]
    }
   ],
   "source": [
    "print(\"Train precision: \", train_precision[-1])\n",
    "print(\"Train recall: \", train_recall[-1])\n",
    "print(\"Validation precision: \", val_precision[-1])\n",
    "print(\"Validation recall: \", val_recall[-1])\n",
    "print(\"F1 score in train set: \", train_f1[-1])\n",
    "print(\"F1 score on validation set: \", val_f1[-1])"
   ]
  },
  {
   "cell_type": "code",
   "execution_count": 11,
   "metadata": {},
   "outputs": [
    {
     "data": {
      "image/png": "[encoded data removed]",
      "text/plain": [
       "<Figure size 432x288 with 1 Axes>"
      ]
     },
     "metadata": {
      "needs_background": "light"
     },
     "output_type": "display_data"
    }
   ],
   "source": [
    "plt.figure()\n",
    "plt.plot(epochs, train_f1, 'r', label='Train F1 score')\n",
    "plt.plot(epochs, val_f1, 'b', label='Validation F1 score')\n",
    "plt.title('Train and validation F1 scores')\n",
    "plt.legend()\n",
    "plt.show()"
   ]
  },
  {
   "cell_type": "code",
   "execution_count": 12,
   "metadata": {},
   "outputs": [
    {
     "data": {
      "image/png": "[encoded data removed]",
      "text/plain": [
       "<Figure size 432x288 with 1 Axes>"
      ]
     },
     "metadata": {
      "needs_background": "light"
     },
     "output_type": "display_data"
    }
   ],
   "source": [
    "loss = history.history['loss']\n",
    "val_loss = history.history['val_loss']\n",
    "plt.figure()\n",
    "plt.plot(epochs, loss, 'r', label='Training loss')\n",
    "plt.plot(epochs, val_loss, 'b', label='Validation loss')\n",
    "plt.title('Training and validation loss')\n",
    "plt.legend()\n",
    "plt.show()"
   ]
  },
  {
   "cell_type": "code",
   "execution_count": 13,
   "metadata": {},
   "outputs": [
    {
     "data": {
      "image/png": "[encoded data removed]",
      "text/plain": [
       "<Figure size 432x288 with 1 Axes>"
      ]
     },
     "metadata": {
      "needs_background": "light"
     },
     "output_type": "display_data"
    }
   ],
   "source": [
    "acc = history.history['accuracy']\n",
    "val_acc = history.history['val_accuracy']\n",
    "plt.figure()\n",
    "plt.plot(epochs, acc, 'r', label='Training accuracy')\n",
    "plt.plot(epochs, val_acc, 'b', label='Validation accuracy')\n",
    "plt.title('Training and validation accuracy')\n",
    "plt.legend()\n",
    "plt.show()"
   ]
  },
  {
   "cell_type": "code",
   "execution_count": 14,
   "metadata": {},
   "outputs": [
    {
     "name": "stderr",
     "output_type": "stream",
     "text": [
      "2022-07-31 16:52:21.777357: W tensorflow/core/platform/profile_utils/cpu_utils.cc:128] Failed to get CPU frequency: 0 Hz\n",
      "2022-07-31 16:52:21.777762: I tensorflow/core/grappler/optimizers/custom_graph_optimizer_registry.cc:113] Plugin optimizer for device_type GPU is enabled.\n"
     ]
    },
    {
     "name": "stdout",
     "output_type": "stream",
     "text": [
      "20/20 [==============================] - 4s 154ms/step - loss: 0.7097 - accuracy: 0.8349 - precision: 0.7923 - recall: 0.9974 - auc: 0.9137\n"
     ]
    }
   ],
   "source": [
    "test_history = model.evaluate(test_data, verbose=1)"
   ]
  },
  {
   "cell_type": "code",
   "execution_count": 15,
   "metadata": {},
   "outputs": [
    {
     "name": "stderr",
     "output_type": "stream",
     "text": [
      "2022-07-31 16:52:25.599402: I tensorflow/core/grappler/optimizers/custom_graph_optimizer_registry.cc:113] Plugin optimizer for device_type GPU is enabled.\n"
     ]
    },
    {
     "name": "stdout",
     "output_type": "stream",
     "text": [
      "20/20 [==============================] - 3s 148ms/step\n"
     ]
    }
   ],
   "source": [
    "test_pred = model.predict(test_data, verbose=1)"
   ]
  },
  {
   "cell_type": "code",
   "execution_count": 16,
   "metadata": {},
   "outputs": [
    {
     "data": {
      "text/plain": [
       "Counter({1: 491, 0: 133})"
      ]
     },
     "execution_count": 16,
     "metadata": {},
     "output_type": "execute_result"
    }
   ],
   "source": [
    "pred_labels = []\n",
    "for pred in test_pred:\n",
    "    if pred>0.5:\n",
    "        pred_labels.append(1)\n",
    "    else:\n",
    "        pred_labels.append(0)\n",
    "\n",
    "Counter(pred_labels)"
   ]
  },
  {
   "cell_type": "code",
   "execution_count": 17,
   "metadata": {},
   "outputs": [],
   "source": [
    "test_acc = test_history[1]\n",
    "test_precision = test_history[2]\n",
    "test_recall = test_history[3]\n",
    "test_f1 = 2./(1./test_precision+1./test_recall)"
   ]
  },
  {
   "cell_type": "code",
   "execution_count": 18,
   "metadata": {},
   "outputs": [
    {
     "name": "stdout",
     "output_type": "stream",
     "text": [
      "Test accuracy:  0.8349359035491943\n",
      "Test precision:  0.7922607064247131\n",
      "Test recall:  0.9974359273910522\n",
      "F1 score on test set:  0.8830874210937041\n"
     ]
    }
   ],
   "source": [
    "print(\"Test accuracy: \", test_acc)\n",
    "print(\"Test precision: \", test_precision)\n",
    "print(\"Test recall: \", test_recall)\n",
    "print(\"F1 score on test set: \", test_f1)"
   ]
  }
 ],
 "metadata": {
  "kernelspec": {
   "display_name": "Python 3.10.5 ('harvard-tensorflow')",
   "language": "python",
   "name": "python3"
  },
  "language_info": {
   "codemirror_mode": {
    "name": "ipython",
    "version": 3
   },
   "file_extension": ".py",
   "mimetype": "text/x-python",
   "name": "python",
   "nbconvert_exporter": "python",
   "pygments_lexer": "ipython3",
   "version": "3.10.5"
  },
  "orig_nbformat": 4,
  "vscode": {
   "interpreter": {
    "hash": "a2471f961d196a5250c1705a45800dbb19a75062825d6ee7e8f8d9985c6140c7"
   }
  }
 },
 "nbformat": 4,
 "nbformat_minor": 2
}
