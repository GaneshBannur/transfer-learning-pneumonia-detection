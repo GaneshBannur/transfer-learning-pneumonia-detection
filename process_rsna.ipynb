{
 "cells": [
  {
   "cell_type": "code",
   "execution_count": 1,
   "metadata": {},
   "outputs": [],
   "source": [
    "from pydicom import dcmread\n",
    "from PIL import Image\n",
    "from pandas import read_csv\n",
    "from os import walk, mkdir\n",
    "from random import seed, shuffle"
   ]
  },
  {
   "cell_type": "code",
   "execution_count": 2,
   "metadata": {},
   "outputs": [],
   "source": [
    "seed(10)"
   ]
  },
  {
   "cell_type": "code",
   "execution_count": 3,
   "metadata": {},
   "outputs": [],
   "source": [
    "dataset_path = '/Users/snoopy/Desktop/Other/Harvard/Final Project/RSNA/rsna-pneumonia-detection-challenge'\n",
    "\"\"\"split_lengths = {'train':{'normal': 1341, 'pneumonia': 3875},\n",
    "                 'test':{'normal': 234, 'pneumonia': 390},\n",
    "                 'val':{'normal': 8, 'pneumonia': 8}}\"\"\"\n",
    "split_lengths = {'train':{'normal': 12403, 'pneumonia': 3607},\n",
    "                 'test':{'normal': 4135, 'pneumonia': 1203},\n",
    "                 'val':{'normal': 4134, 'pneumonia': 1202}}"
   ]
  },
  {
   "cell_type": "code",
   "execution_count": 4,
   "metadata": {},
   "outputs": [],
   "source": [
    "labels = read_csv(filepath_or_buffer=dataset_path+'/stage_2_train_labels.csv',\n",
    "                  sep=',',\n",
    "                  usecols=['patientId', 'Target'],\n",
    "                  skip_blank_lines=True,\n",
    "                  on_bad_lines='skip')\n",
    "labels.drop_duplicates(subset=['patientId'], inplace=True)"
   ]
  },
  {
   "cell_type": "code",
   "execution_count": 5,
   "metadata": {},
   "outputs": [],
   "source": [
    "files_in_order = walk(dataset_path+'/stage_2_train_images')\n",
    "files_in_order = next(files_in_order)[2]"
   ]
  },
  {
   "cell_type": "code",
   "execution_count": 6,
   "metadata": {},
   "outputs": [],
   "source": [
    "filenames_by_class = {'normal': [], 'pneumonia': []}\n",
    "for filename in files_in_order:\n",
    "    patient_ID = filename[:-4]\n",
    "    cur_label = labels[labels['patientId']==patient_ID]['Target'].iloc[0]\n",
    "    if cur_label==1:\n",
    "        filenames_by_class['pneumonia'].append(filename)\n",
    "    else:\n",
    "        filenames_by_class['normal'].append(filename)"
   ]
  },
  {
   "cell_type": "code",
   "execution_count": 7,
   "metadata": {},
   "outputs": [],
   "source": [
    "shuffle(filenames_by_class['normal'])\n",
    "shuffle(filenames_by_class['pneumonia'])"
   ]
  },
  {
   "cell_type": "code",
   "execution_count": 8,
   "metadata": {},
   "outputs": [],
   "source": [
    "def create_dir(dir_path):\n",
    "    try:\n",
    "        mkdir(path=dir_path)\n",
    "    except FileExistsError:\n",
    "        pass"
   ]
  },
  {
   "cell_type": "code",
   "execution_count": 9,
   "metadata": {},
   "outputs": [],
   "source": [
    "#jpeg_dataset_path = 'RSNA-jpeg'\n",
    "jpeg_dataset_path = 'RSNA-full-jpeg'\n",
    "splits = ['train', 'test', 'val']\n",
    "img_classes = ['normal', 'pneumonia']"
   ]
  },
  {
   "cell_type": "code",
   "execution_count": 10,
   "metadata": {},
   "outputs": [],
   "source": [
    "create_dir(jpeg_dataset_path)\n",
    "for split in splits:\n",
    "    create_dir(jpeg_dataset_path+'/'+split)\n",
    "    for img_class in img_classes:\n",
    "        create_dir(jpeg_dataset_path+'/'+split+'/'+img_class)"
   ]
  },
  {
   "cell_type": "code",
   "execution_count": 11,
   "metadata": {},
   "outputs": [],
   "source": [
    "start_index = {'normal': 0, 'pneumonia': 0}\n",
    "for split in splits:\n",
    "    for img_class in img_classes:\n",
    "        for i in range(start_index[img_class], start_index[img_class]+split_lengths[split][img_class]):\n",
    "            dcm_filename = filenames_by_class[img_class][i]\n",
    "            jpeg_filename = dcm_filename[:-3]+'jpeg'\n",
    "            dcm_img = dcmread(dataset_path+'/stage_2_train_images/'+dcm_filename)\n",
    "            jpeg_img = Image.fromarray(dcm_img.pixel_array)\n",
    "            jpeg_img.save(fp=jpeg_dataset_path+'/'+split+'/'+img_class+'/'+jpeg_filename,\n",
    "                          format='jpeg',\n",
    "                          quality=100,\n",
    "                          subsampling=0)\n",
    "        start_index[img_class] = i+1"
   ]
  }
 ],
 "metadata": {
  "kernelspec": {
   "display_name": "Python 3.10.5 ('harvard-tensorflow')",
   "language": "python",
   "name": "python3"
  },
  "language_info": {
   "codemirror_mode": {
    "name": "ipython",
    "version": 3
   },
   "file_extension": ".py",
   "mimetype": "text/x-python",
   "name": "python",
   "nbconvert_exporter": "python",
   "pygments_lexer": "ipython3",
   "version": "3.10.5"
  },
  "orig_nbformat": 4,
  "vscode": {
   "interpreter": {
    "hash": "a2471f961d196a5250c1705a45800dbb19a75062825d6ee7e8f8d9985c6140c7"
   }
  }
 },
 "nbformat": 4,
 "nbformat_minor": 2
}
