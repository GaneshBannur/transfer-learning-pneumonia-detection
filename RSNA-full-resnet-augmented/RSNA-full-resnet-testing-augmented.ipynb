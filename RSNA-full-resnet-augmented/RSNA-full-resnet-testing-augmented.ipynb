{
 "cells": [
  {
   "cell_type": "code",
   "execution_count": 1,
   "metadata": {},
   "outputs": [],
   "source": [
    "from keras.utils import image_dataset_from_directory, set_random_seed\n",
    "from keras.models import load_model\n",
    "from collections import Counter\n",
    "from pickle import load\n",
    "from numpy import asarray\n",
    "import matplotlib.pyplot as plt"
   ]
  },
  {
   "cell_type": "code",
   "execution_count": 2,
   "metadata": {},
   "outputs": [],
   "source": [
    "set_random_seed(10)"
   ]
  },
  {
   "cell_type": "code",
   "execution_count": 3,
   "metadata": {},
   "outputs": [],
   "source": [
    "img_size = (256, 256)\n",
    "class_names = ['normal', 'pneumonia']\n",
    "dataset_dir = '/Users/snoopy/Desktop/Other/Harvard/Final Project/RSNA/RSNA-full-jpeg'\n",
    "color_mode = 'rgb'\n",
    "num_channels = 3"
   ]
  },
  {
   "cell_type": "code",
   "execution_count": 4,
   "metadata": {},
   "outputs": [
    {
     "name": "stdout",
     "output_type": "stream",
     "text": [
      "Found 16010 files belonging to 2 classes.\n",
      "Metal device set to: Apple M1\n",
      "\n",
      "systemMemory: 16.00 GB\n",
      "maxCacheSize: 5.33 GB\n",
      "\n",
      "Found 5338 files belonging to 2 classes.\n"
     ]
    },
    {
     "name": "stderr",
     "output_type": "stream",
     "text": [
      "2022-08-01 13:17:19.055891: I tensorflow/core/common_runtime/pluggable_device/pluggable_device_factory.cc:305] Could not identify NUMA node of platform GPU ID 0, defaulting to 0. Your kernel may not have been built with NUMA support.\n",
      "2022-08-01 13:17:19.055987: I tensorflow/core/common_runtime/pluggable_device/pluggable_device_factory.cc:271] Created TensorFlow device (/job:localhost/replica:0/task:0/device:GPU:0 with 0 MB memory) -> physical PluggableDevice (device: 0, name: METAL, pci bus id: <undefined>)\n"
     ]
    },
    {
     "name": "stdout",
     "output_type": "stream",
     "text": [
      "Found 5336 files belonging to 2 classes.\n"
     ]
    }
   ],
   "source": [
    "train_data = image_dataset_from_directory(directory=dataset_dir+'/train',\n",
    "                                          label_mode='binary',\n",
    "                                          class_names=class_names,\n",
    "                                          color_mode=color_mode,\n",
    "                                          image_size=img_size,\n",
    "                                          shuffle=True)\n",
    "test_data = image_dataset_from_directory(directory=dataset_dir+'/test',\n",
    "                                          label_mode='binary',\n",
    "                                          class_names=class_names,\n",
    "                                          color_mode=color_mode,\n",
    "                                          image_size=img_size)\n",
    "val_data = image_dataset_from_directory(directory=dataset_dir+'/val',\n",
    "                                          label_mode='binary',\n",
    "                                          class_names=class_names,\n",
    "                                          color_mode=color_mode,\n",
    "                                          image_size=img_size)"
   ]
  },
  {
   "cell_type": "code",
   "execution_count": 5,
   "metadata": {},
   "outputs": [],
   "source": [
    "model = load_model(filepath='/Users/snoopy/Desktop/Other/Harvard/Final Project/RSNA/RSNA-full-resnet-augmented/rsna-resnet-augmented')"
   ]
  },
  {
   "cell_type": "code",
   "execution_count": 6,
   "metadata": {},
   "outputs": [],
   "source": [
    "with open('/Users/snoopy/Desktop/Other/Harvard/Final Project/RSNA/RSNA-full-resnet-augmented/rsna-resnet-augmented-history', 'rb') as f:\n",
    "    history = load(f)"
   ]
  },
  {
   "cell_type": "code",
   "execution_count": 7,
   "metadata": {},
   "outputs": [
    {
     "name": "stdout",
     "output_type": "stream",
     "text": [
      "Model: \"resnet_18_classifier\"\n",
      "__________________________________________________________________________________________________\n",
      " Layer (type)                   Output Shape         Param #     Connected to                     \n",
      "==================================================================================================\n",
      " input_1 (InputLayer)           [(None, 256, 256, 3  0           []                               \n",
      "                                )]                                                                \n",
      "                                                                                                  \n",
      " rescaling (Rescaling)          (None, 256, 256, 3)  0           ['input_1[0][0]']                \n",
      "                                                                                                  \n",
      " bn_data (BatchNormalization)   (None, 256, 256, 3)  9           ['rescaling[0][0]']              \n",
      "                                                                                                  \n",
      " zero_padding2d (ZeroPadding2D)  (None, 262, 262, 3)  0          ['bn_data[0][0]']                \n",
      "                                                                                                  \n",
      " conv0 (Conv2D)                 (None, 128, 128, 64  9408        ['zero_padding2d[0][0]']         \n",
      "                                )                                                                 \n",
      "                                                                                                  \n",
      " bn0 (BatchNormalization)       (None, 128, 128, 64  256         ['conv0[0][0]']                  \n",
      "                                )                                                                 \n",
      "                                                                                                  \n",
      " relu0 (Activation)             (None, 128, 128, 64  0           ['bn0[0][0]']                    \n",
      "                                )                                                                 \n",
      "                                                                                                  \n",
      " zero_padding2d_1 (ZeroPadding2  (None, 130, 130, 64  0          ['relu0[0][0]']                  \n",
      " D)                             )                                                                 \n",
      "                                                                                                  \n",
      " pooling0 (MaxPooling2D)        (None, 64, 64, 64)   0           ['zero_padding2d_1[0][0]']       \n",
      "                                                                                                  \n",
      " stage1_unit1_bn1 (BatchNormali  (None, 64, 64, 64)  256         ['pooling0[0][0]']               \n",
      " zation)                                                                                          \n",
      "                                                                                                  \n",
      " stage1_unit1_relu1 (Activation  (None, 64, 64, 64)  0           ['stage1_unit1_bn1[0][0]']       \n",
      " )                                                                                                \n",
      "                                                                                                  \n",
      " zero_padding2d_2 (ZeroPadding2  (None, 66, 66, 64)  0           ['stage1_unit1_relu1[0][0]']     \n",
      " D)                                                                                               \n",
      "                                                                                                  \n",
      " stage1_unit1_conv1 (Conv2D)    (None, 64, 64, 64)   36864       ['zero_padding2d_2[0][0]']       \n",
      "                                                                                                  \n",
      " stage1_unit1_bn2 (BatchNormali  (None, 64, 64, 64)  256         ['stage1_unit1_conv1[0][0]']     \n",
      " zation)                                                                                          \n",
      "                                                                                                  \n",
      " stage1_unit1_relu2 (Activation  (None, 64, 64, 64)  0           ['stage1_unit1_bn2[0][0]']       \n",
      " )                                                                                                \n",
      "                                                                                                  \n",
      " zero_padding2d_3 (ZeroPadding2  (None, 66, 66, 64)  0           ['stage1_unit1_relu2[0][0]']     \n",
      " D)                                                                                               \n",
      "                                                                                                  \n",
      " stage1_unit1_conv2 (Conv2D)    (None, 64, 64, 64)   36864       ['zero_padding2d_3[0][0]']       \n",
      "                                                                                                  \n",
      " stage1_unit1_sc (Conv2D)       (None, 64, 64, 64)   4096        ['stage1_unit1_relu1[0][0]']     \n",
      "                                                                                                  \n",
      " add (Add)                      (None, 64, 64, 64)   0           ['stage1_unit1_conv2[0][0]',     \n",
      "                                                                  'stage1_unit1_sc[0][0]']        \n",
      "                                                                                                  \n",
      " stage1_unit2_bn1 (BatchNormali  (None, 64, 64, 64)  256         ['add[0][0]']                    \n",
      " zation)                                                                                          \n",
      "                                                                                                  \n",
      " stage1_unit2_relu1 (Activation  (None, 64, 64, 64)  0           ['stage1_unit2_bn1[0][0]']       \n",
      " )                                                                                                \n",
      "                                                                                                  \n",
      " zero_padding2d_4 (ZeroPadding2  (None, 66, 66, 64)  0           ['stage1_unit2_relu1[0][0]']     \n",
      " D)                                                                                               \n",
      "                                                                                                  \n",
      " stage1_unit2_conv1 (Conv2D)    (None, 64, 64, 64)   36864       ['zero_padding2d_4[0][0]']       \n",
      "                                                                                                  \n",
      " stage1_unit2_bn2 (BatchNormali  (None, 64, 64, 64)  256         ['stage1_unit2_conv1[0][0]']     \n",
      " zation)                                                                                          \n",
      "                                                                                                  \n",
      " stage1_unit2_relu2 (Activation  (None, 64, 64, 64)  0           ['stage1_unit2_bn2[0][0]']       \n",
      " )                                                                                                \n",
      "                                                                                                  \n",
      " zero_padding2d_5 (ZeroPadding2  (None, 66, 66, 64)  0           ['stage1_unit2_relu2[0][0]']     \n",
      " D)                                                                                               \n",
      "                                                                                                  \n",
      " stage1_unit2_conv2 (Conv2D)    (None, 64, 64, 64)   36864       ['zero_padding2d_5[0][0]']       \n",
      "                                                                                                  \n",
      " add_1 (Add)                    (None, 64, 64, 64)   0           ['stage1_unit2_conv2[0][0]',     \n",
      "                                                                  'add[0][0]']                    \n",
      "                                                                                                  \n",
      " stage2_unit1_bn1 (BatchNormali  (None, 64, 64, 64)  256         ['add_1[0][0]']                  \n",
      " zation)                                                                                          \n",
      "                                                                                                  \n",
      " stage2_unit1_relu1 (Activation  (None, 64, 64, 64)  0           ['stage2_unit1_bn1[0][0]']       \n",
      " )                                                                                                \n",
      "                                                                                                  \n",
      " zero_padding2d_6 (ZeroPadding2  (None, 66, 66, 64)  0           ['stage2_unit1_relu1[0][0]']     \n",
      " D)                                                                                               \n",
      "                                                                                                  \n",
      " stage2_unit1_conv1 (Conv2D)    (None, 32, 32, 128)  73728       ['zero_padding2d_6[0][0]']       \n",
      "                                                                                                  \n",
      " stage2_unit1_bn2 (BatchNormali  (None, 32, 32, 128)  512        ['stage2_unit1_conv1[0][0]']     \n",
      " zation)                                                                                          \n",
      "                                                                                                  \n",
      " stage2_unit1_relu2 (Activation  (None, 32, 32, 128)  0          ['stage2_unit1_bn2[0][0]']       \n",
      " )                                                                                                \n",
      "                                                                                                  \n",
      " zero_padding2d_7 (ZeroPadding2  (None, 34, 34, 128)  0          ['stage2_unit1_relu2[0][0]']     \n",
      " D)                                                                                               \n",
      "                                                                                                  \n",
      " stage2_unit1_conv2 (Conv2D)    (None, 32, 32, 128)  147456      ['zero_padding2d_7[0][0]']       \n",
      "                                                                                                  \n",
      " stage2_unit1_sc (Conv2D)       (None, 32, 32, 128)  8192        ['stage2_unit1_relu1[0][0]']     \n",
      "                                                                                                  \n",
      " add_2 (Add)                    (None, 32, 32, 128)  0           ['stage2_unit1_conv2[0][0]',     \n",
      "                                                                  'stage2_unit1_sc[0][0]']        \n",
      "                                                                                                  \n",
      " stage2_unit2_bn1 (BatchNormali  (None, 32, 32, 128)  512        ['add_2[0][0]']                  \n",
      " zation)                                                                                          \n",
      "                                                                                                  \n",
      " stage2_unit2_relu1 (Activation  (None, 32, 32, 128)  0          ['stage2_unit2_bn1[0][0]']       \n",
      " )                                                                                                \n",
      "                                                                                                  \n",
      " zero_padding2d_8 (ZeroPadding2  (None, 34, 34, 128)  0          ['stage2_unit2_relu1[0][0]']     \n",
      " D)                                                                                               \n",
      "                                                                                                  \n",
      " stage2_unit2_conv1 (Conv2D)    (None, 32, 32, 128)  147456      ['zero_padding2d_8[0][0]']       \n",
      "                                                                                                  \n",
      " stage2_unit2_bn2 (BatchNormali  (None, 32, 32, 128)  512        ['stage2_unit2_conv1[0][0]']     \n",
      " zation)                                                                                          \n",
      "                                                                                                  \n",
      " stage2_unit2_relu2 (Activation  (None, 32, 32, 128)  0          ['stage2_unit2_bn2[0][0]']       \n",
      " )                                                                                                \n",
      "                                                                                                  \n",
      " zero_padding2d_9 (ZeroPadding2  (None, 34, 34, 128)  0          ['stage2_unit2_relu2[0][0]']     \n",
      " D)                                                                                               \n",
      "                                                                                                  \n",
      " stage2_unit2_conv2 (Conv2D)    (None, 32, 32, 128)  147456      ['zero_padding2d_9[0][0]']       \n",
      "                                                                                                  \n",
      " add_3 (Add)                    (None, 32, 32, 128)  0           ['stage2_unit2_conv2[0][0]',     \n",
      "                                                                  'add_2[0][0]']                  \n",
      "                                                                                                  \n",
      " stage3_unit1_bn1 (BatchNormali  (None, 32, 32, 128)  512        ['add_3[0][0]']                  \n",
      " zation)                                                                                          \n",
      "                                                                                                  \n",
      " stage3_unit1_relu1 (Activation  (None, 32, 32, 128)  0          ['stage3_unit1_bn1[0][0]']       \n",
      " )                                                                                                \n",
      "                                                                                                  \n",
      " zero_padding2d_10 (ZeroPadding  (None, 34, 34, 128)  0          ['stage3_unit1_relu1[0][0]']     \n",
      " 2D)                                                                                              \n",
      "                                                                                                  \n",
      " stage3_unit1_conv1 (Conv2D)    (None, 16, 16, 256)  294912      ['zero_padding2d_10[0][0]']      \n",
      "                                                                                                  \n",
      " stage3_unit1_bn2 (BatchNormali  (None, 16, 16, 256)  1024       ['stage3_unit1_conv1[0][0]']     \n",
      " zation)                                                                                          \n",
      "                                                                                                  \n",
      " stage3_unit1_relu2 (Activation  (None, 16, 16, 256)  0          ['stage3_unit1_bn2[0][0]']       \n",
      " )                                                                                                \n",
      "                                                                                                  \n",
      " zero_padding2d_11 (ZeroPadding  (None, 18, 18, 256)  0          ['stage3_unit1_relu2[0][0]']     \n",
      " 2D)                                                                                              \n",
      "                                                                                                  \n",
      " stage3_unit1_conv2 (Conv2D)    (None, 16, 16, 256)  589824      ['zero_padding2d_11[0][0]']      \n",
      "                                                                                                  \n",
      " stage3_unit1_sc (Conv2D)       (None, 16, 16, 256)  32768       ['stage3_unit1_relu1[0][0]']     \n",
      "                                                                                                  \n",
      " add_4 (Add)                    (None, 16, 16, 256)  0           ['stage3_unit1_conv2[0][0]',     \n",
      "                                                                  'stage3_unit1_sc[0][0]']        \n",
      "                                                                                                  \n",
      " stage3_unit2_bn1 (BatchNormali  (None, 16, 16, 256)  1024       ['add_4[0][0]']                  \n",
      " zation)                                                                                          \n",
      "                                                                                                  \n",
      " stage3_unit2_relu1 (Activation  (None, 16, 16, 256)  0          ['stage3_unit2_bn1[0][0]']       \n",
      " )                                                                                                \n",
      "                                                                                                  \n",
      " zero_padding2d_12 (ZeroPadding  (None, 18, 18, 256)  0          ['stage3_unit2_relu1[0][0]']     \n",
      " 2D)                                                                                              \n",
      "                                                                                                  \n",
      " stage3_unit2_conv1 (Conv2D)    (None, 16, 16, 256)  589824      ['zero_padding2d_12[0][0]']      \n",
      "                                                                                                  \n",
      " stage3_unit2_bn2 (BatchNormali  (None, 16, 16, 256)  1024       ['stage3_unit2_conv1[0][0]']     \n",
      " zation)                                                                                          \n",
      "                                                                                                  \n",
      " stage3_unit2_relu2 (Activation  (None, 16, 16, 256)  0          ['stage3_unit2_bn2[0][0]']       \n",
      " )                                                                                                \n",
      "                                                                                                  \n",
      " zero_padding2d_13 (ZeroPadding  (None, 18, 18, 256)  0          ['stage3_unit2_relu2[0][0]']     \n",
      " 2D)                                                                                              \n",
      "                                                                                                  \n",
      " stage3_unit2_conv2 (Conv2D)    (None, 16, 16, 256)  589824      ['zero_padding2d_13[0][0]']      \n",
      "                                                                                                  \n",
      " add_5 (Add)                    (None, 16, 16, 256)  0           ['stage3_unit2_conv2[0][0]',     \n",
      "                                                                  'add_4[0][0]']                  \n",
      "                                                                                                  \n",
      " stage4_unit1_bn1 (BatchNormali  (None, 16, 16, 256)  1024       ['add_5[0][0]']                  \n",
      " zation)                                                                                          \n",
      "                                                                                                  \n",
      " stage4_unit1_relu1 (Activation  (None, 16, 16, 256)  0          ['stage4_unit1_bn1[0][0]']       \n",
      " )                                                                                                \n",
      "                                                                                                  \n",
      " zero_padding2d_14 (ZeroPadding  (None, 18, 18, 256)  0          ['stage4_unit1_relu1[0][0]']     \n",
      " 2D)                                                                                              \n",
      "                                                                                                  \n",
      " stage4_unit1_conv1 (Conv2D)    (None, 8, 8, 512)    1179648     ['zero_padding2d_14[0][0]']      \n",
      "                                                                                                  \n",
      " stage4_unit1_bn2 (BatchNormali  (None, 8, 8, 512)   2048        ['stage4_unit1_conv1[0][0]']     \n",
      " zation)                                                                                          \n",
      "                                                                                                  \n",
      " stage4_unit1_relu2 (Activation  (None, 8, 8, 512)   0           ['stage4_unit1_bn2[0][0]']       \n",
      " )                                                                                                \n",
      "                                                                                                  \n",
      " zero_padding2d_15 (ZeroPadding  (None, 10, 10, 512)  0          ['stage4_unit1_relu2[0][0]']     \n",
      " 2D)                                                                                              \n",
      "                                                                                                  \n",
      " stage4_unit1_conv2 (Conv2D)    (None, 8, 8, 512)    2359296     ['zero_padding2d_15[0][0]']      \n",
      "                                                                                                  \n",
      " stage4_unit1_sc (Conv2D)       (None, 8, 8, 512)    131072      ['stage4_unit1_relu1[0][0]']     \n",
      "                                                                                                  \n",
      " add_6 (Add)                    (None, 8, 8, 512)    0           ['stage4_unit1_conv2[0][0]',     \n",
      "                                                                  'stage4_unit1_sc[0][0]']        \n",
      "                                                                                                  \n",
      " stage4_unit2_bn1 (BatchNormali  (None, 8, 8, 512)   2048        ['add_6[0][0]']                  \n",
      " zation)                                                                                          \n",
      "                                                                                                  \n",
      " stage4_unit2_relu1 (Activation  (None, 8, 8, 512)   0           ['stage4_unit2_bn1[0][0]']       \n",
      " )                                                                                                \n",
      "                                                                                                  \n",
      " zero_padding2d_16 (ZeroPadding  (None, 10, 10, 512)  0          ['stage4_unit2_relu1[0][0]']     \n",
      " 2D)                                                                                              \n",
      "                                                                                                  \n",
      " stage4_unit2_conv1 (Conv2D)    (None, 8, 8, 512)    2359296     ['zero_padding2d_16[0][0]']      \n",
      "                                                                                                  \n",
      " stage4_unit2_bn2 (BatchNormali  (None, 8, 8, 512)   2048        ['stage4_unit2_conv1[0][0]']     \n",
      " zation)                                                                                          \n",
      "                                                                                                  \n",
      " stage4_unit2_relu2 (Activation  (None, 8, 8, 512)   0           ['stage4_unit2_bn2[0][0]']       \n",
      " )                                                                                                \n",
      "                                                                                                  \n",
      " zero_padding2d_17 (ZeroPadding  (None, 10, 10, 512)  0          ['stage4_unit2_relu2[0][0]']     \n",
      " 2D)                                                                                              \n",
      "                                                                                                  \n",
      " stage4_unit2_conv2 (Conv2D)    (None, 8, 8, 512)    2359296     ['zero_padding2d_17[0][0]']      \n",
      "                                                                                                  \n",
      " add_7 (Add)                    (None, 8, 8, 512)    0           ['stage4_unit2_conv2[0][0]',     \n",
      "                                                                  'add_6[0][0]']                  \n",
      "                                                                                                  \n",
      " bn1 (BatchNormalization)       (None, 8, 8, 512)    2048        ['add_7[0][0]']                  \n",
      "                                                                                                  \n",
      " relu1 (Activation)             (None, 8, 8, 512)    0           ['bn1[0][0]']                    \n",
      "                                                                                                  \n",
      " global_average_pooling2d (Glob  (None, 512)         0           ['relu1[0][0]']                  \n",
      " alAveragePooling2D)                                                                              \n",
      "                                                                                                  \n",
      " dense (Dense)                  (None, 1)            513         ['global_average_pooling2d[0][0]'\n",
      "                                                                 ]                                \n",
      "                                                                                                  \n",
      "==================================================================================================\n",
      "Total params: 11,187,402\n",
      "Trainable params: 11,179,460\n",
      "Non-trainable params: 7,942\n",
      "__________________________________________________________________________________________________\n"
     ]
    }
   ],
   "source": [
    "model.summary()"
   ]
  },
  {
   "cell_type": "code",
   "execution_count": 8,
   "metadata": {},
   "outputs": [],
   "source": [
    "train_precision = asarray(history.history['precision'])\n",
    "train_recall = asarray(history.history['recall'])\n",
    "val_precision = asarray(history.history['val_precision'])\n",
    "val_recall = asarray(history.history['val_recall'])\n",
    "train_f1 = 2./(1./train_precision+1./train_recall)\n",
    "val_f1 = 2./(1./val_precision+1./val_recall)"
   ]
  },
  {
   "cell_type": "code",
   "execution_count": 9,
   "metadata": {},
   "outputs": [],
   "source": [
    "epochs = range(len(history.history['loss']))"
   ]
  },
  {
   "cell_type": "code",
   "execution_count": 10,
   "metadata": {},
   "outputs": [
    {
     "name": "stdout",
     "output_type": "stream",
     "text": [
      "Train precision:  0.5429553389549255\n",
      "Train recall:  0.8322705626487732\n",
      "Validation precision:  0.5764476656913757\n",
      "Validation recall:  0.7371047735214233\n",
      "F1 score in train set:  0.6571803874813753\n",
      "F1 score on validation set:  0.6469514476651348\n"
     ]
    }
   ],
   "source": [
    "print(\"Train precision: \", train_precision[-1])\n",
    "print(\"Train recall: \", train_recall[-1])\n",
    "print(\"Validation precision: \", val_precision[-1])\n",
    "print(\"Validation recall: \", val_recall[-1])\n",
    "print(\"F1 score in train set: \", train_f1[-1])\n",
    "print(\"F1 score on validation set: \", val_f1[-1])"
   ]
  },
  {
   "cell_type": "code",
   "execution_count": 11,
   "metadata": {},
   "outputs": [
    {
     "data": {
      "image/png": "[encoded data removed]",
      "text/plain": [
       "<Figure size 432x288 with 1 Axes>"
      ]
     },
     "metadata": {
      "needs_background": "light"
     },
     "output_type": "display_data"
    }
   ],
   "source": [
    "plt.figure()\n",
    "plt.plot(epochs, train_f1, 'r', label='Train F1 score')\n",
    "plt.plot(epochs, val_f1, 'b', label='Validation F1 score')\n",
    "plt.title('Train and validation F1 scores')\n",
    "plt.legend()\n",
    "plt.show()"
   ]
  },
  {
   "cell_type": "code",
   "execution_count": 12,
   "metadata": {},
   "outputs": [
    {
     "data": {
      "image/png": "[encoded data removed]",
      "text/plain": [
       "<Figure size 432x288 with 1 Axes>"
      ]
     },
     "metadata": {
      "needs_background": "light"
     },
     "output_type": "display_data"
    }
   ],
   "source": [
    "loss = history.history['loss']\n",
    "val_loss = history.history['val_loss']\n",
    "plt.figure()\n",
    "plt.plot(epochs, loss, 'r', label='Training loss')\n",
    "plt.plot(epochs, val_loss, 'b', label='Validation loss')\n",
    "plt.title('Training and validation loss')\n",
    "plt.legend()\n",
    "plt.show()"
   ]
  },
  {
   "cell_type": "code",
   "execution_count": 13,
   "metadata": {},
   "outputs": [
    {
     "data": {
      "image/png": "[encoded data removed]",
      "text/plain": [
       "<Figure size 432x288 with 1 Axes>"
      ]
     },
     "metadata": {
      "needs_background": "light"
     },
     "output_type": "display_data"
    }
   ],
   "source": [
    "acc = history.history['accuracy']\n",
    "val_acc = history.history['val_accuracy']\n",
    "plt.figure()\n",
    "plt.plot(epochs, acc, 'r', label='Training accuracy')\n",
    "plt.plot(epochs, val_acc, 'b', label='Validation accuracy')\n",
    "plt.title('Training and validation accuracy')\n",
    "plt.legend()\n",
    "plt.show()"
   ]
  },
  {
   "cell_type": "code",
   "execution_count": 15,
   "metadata": {},
   "outputs": [
    {
     "data": {
      "image/png": "[encoded data removed]",
      "text/plain": [
       "<Figure size 432x288 with 1 Axes>"
      ]
     },
     "metadata": {
      "needs_background": "light"
     },
     "output_type": "display_data"
    }
   ],
   "source": [
    "auc = history.history['auc']\n",
    "val_auc = history.history['val_auc']\n",
    "plt.figure()\n",
    "plt.plot(epochs, acc, 'r', label='Train AUC')\n",
    "plt.plot(epochs, val_acc, 'b', label='Val AUC')\n",
    "plt.title('Training and Validation AUC')\n",
    "plt.legend()\n",
    "plt.show()"
   ]
  },
  {
   "cell_type": "code",
   "execution_count": 22,
   "metadata": {},
   "outputs": [],
   "source": [
    "from keras.optimizers import Adam\n",
    "from keras.metrics import BinaryAccuracy, Precision, Recall, AUC"
   ]
  },
  {
   "cell_type": "code",
   "execution_count": 30,
   "metadata": {},
   "outputs": [],
   "source": [
    "threshold = 0.5"
   ]
  },
  {
   "cell_type": "code",
   "execution_count": 32,
   "metadata": {},
   "outputs": [],
   "source": [
    "model.compile(optimizer=Adam(learning_rate=2e-5),\n",
    "              loss='binary_crossentropy',\n",
    "              metrics=[BinaryAccuracy(name='accuracy', threshold=threshold),\n",
    "                       Precision(thresholds=threshold, name='precision'),\n",
    "                       Recall(thresholds=threshold, name='recall'),\n",
    "                       AUC(name='auc')])"
   ]
  },
  {
   "cell_type": "code",
   "execution_count": 14,
   "metadata": {},
   "outputs": [
    {
     "name": "stderr",
     "output_type": "stream",
     "text": [
      "2022-08-01 13:18:10.477200: W tensorflow/core/platform/profile_utils/cpu_utils.cc:128] Failed to get CPU frequency: 0 Hz\n",
      "2022-08-01 13:18:10.477611: I tensorflow/core/grappler/optimizers/custom_graph_optimizer_registry.cc:113] Plugin optimizer for device_type GPU is enabled.\n"
     ]
    },
    {
     "name": "stdout",
     "output_type": "stream",
     "text": [
      "501/501 [==============================] - 76s 149ms/step - loss: 0.3754 - accuracy: 0.8260 - precision: 0.5893 - recall: 0.7521 - auc: 0.8875\n",
      "167/167 [==============================] - 26s 154ms/step - loss: 0.3915 - accuracy: 0.8186 - precision: 0.5766 - recall: 0.7329 - auc: 0.8762\n",
      "167/167 [==============================] - 26s 151ms/step - loss: 0.4056 - accuracy: 0.8061 - precision: 0.5536 - recall: 0.7207 - auc: 0.8682\n"
     ]
    }
   ],
   "source": [
    "train_res = model.evaluate(train_data, verbose=1)\n",
    "val_res = model.evaluate(val_data, verbose=1)\n",
    "test_res = model.evaluate(test_data, verbose=1)"
   ]
  },
  {
   "cell_type": "code",
   "execution_count": 16,
   "metadata": {},
   "outputs": [
    {
     "name": "stderr",
     "output_type": "stream",
     "text": [
      "2022-08-01 13:20:49.639147: I tensorflow/core/grappler/optimizers/custom_graph_optimizer_registry.cc:113] Plugin optimizer for device_type GPU is enabled.\n"
     ]
    },
    {
     "name": "stdout",
     "output_type": "stream",
     "text": [
      "501/501 [==============================] - 72s 143ms/step\n",
      "167/167 [==============================] - 24s 142ms/step\n",
      "167/167 [==============================] - 24s 141ms/step\n"
     ]
    }
   ],
   "source": [
    "train_pred = model.predict(train_data, verbose=1)\n",
    "val_pred = model.predict(val_data, verbose=1)\n",
    "test_pred = model.predict(test_data, verbose=1)"
   ]
  },
  {
   "cell_type": "code",
   "execution_count": 17,
   "metadata": {},
   "outputs": [
    {
     "name": "stdout",
     "output_type": "stream",
     "text": [
      "Training predictions\n",
      "Counter({0: 11406, 1: 4604})\n",
      "\n",
      "Validation predictions\n",
      "Counter({0: 3808, 1: 1528})\n",
      "\n",
      "Test predictions\n",
      "Counter({0: 3772, 1: 1566})\n"
     ]
    }
   ],
   "source": [
    "train_pred_labels = []\n",
    "for pred in train_pred:\n",
    "    if pred>threshold:\n",
    "        train_pred_labels.append(1)\n",
    "    else:\n",
    "        train_pred_labels.append(0)\n",
    "\n",
    "val_pred_labels = []\n",
    "for pred in val_pred:\n",
    "    if pred>threshold:\n",
    "        val_pred_labels.append(1)\n",
    "    else:\n",
    "        val_pred_labels.append(0)\n",
    "\n",
    "test_pred_labels = []\n",
    "for pred in test_pred:\n",
    "    if pred>threshold:\n",
    "        test_pred_labels.append(1)\n",
    "    else:\n",
    "        test_pred_labels.append(0)\n",
    "\n",
    "print(\"Training predictions\")\n",
    "print(Counter(train_pred_labels))\n",
    "print(\"\\nValidation predictions\")\n",
    "print(Counter(val_pred_labels))\n",
    "print('\\nTest predictions')\n",
    "print(Counter(test_pred_labels))"
   ]
  },
  {
   "cell_type": "code",
   "execution_count": null,
   "metadata": {},
   "outputs": [],
   "source": [
    "\"\"\"{'train':{'normal': 12403, 'pneumonia': 3607},\n",
    "'test':{'normal': 4135, 'pneumonia': 1203},\n",
    "'val':{'normal': 4134, 'pneumonia': 1202}}\"\"\""
   ]
  },
  {
   "cell_type": "code",
   "execution_count": 18,
   "metadata": {},
   "outputs": [],
   "source": [
    "train_f1_from_eval = 2./(1./train_res[2]+1./train_res[3])\n",
    "val_f1_from_eval = 2./(1./val_res[2]+1./val_res[3])\n",
    "test_f1 = 2./(1./test_res[2]+1./test_res[3])"
   ]
  },
  {
   "cell_type": "code",
   "execution_count": 19,
   "metadata": {},
   "outputs": [
    {
     "name": "stdout",
     "output_type": "stream",
     "text": [
      "Train precision:  0.5892702341079712\n",
      "Train recall:  0.7521485686302185\n",
      "Train F1:  0.6608208595495723\n",
      "\n",
      "Validation precision:  0.5765706896781921\n",
      "Validation recall:  0.7329450845718384\n",
      "Validation F1:  0.6454212483997741\n",
      "\n",
      "Test precision:  0.5536398887634277\n",
      "Test recall:  0.7206982970237732\n",
      "Test F1:  0.626218894554672\n"
     ]
    }
   ],
   "source": [
    "print('Train precision: ', train_res[2])\n",
    "print(\"Train recall: \", train_res[3])\n",
    "print(\"Train F1: \", train_f1_from_eval)\n",
    "print(\"\\nValidation precision: \", val_res[2])\n",
    "print(\"Validation recall: \", val_res[3])\n",
    "print(\"Validation F1: \", val_f1_from_eval)\n",
    "print(\"\\nTest precision: \", test_res[2])\n",
    "print(\"Test recall: \", test_res[3])\n",
    "print(\"Test F1: \", test_f1)"
   ]
  }
 ],
 "metadata": {
  "kernelspec": {
   "display_name": "Python 3.10.5 ('harvard-tensorflow')",
   "language": "python",
   "name": "python3"
  },
  "language_info": {
   "codemirror_mode": {
    "name": "ipython",
    "version": 3
   },
   "file_extension": ".py",
   "mimetype": "text/x-python",
   "name": "python",
   "nbconvert_exporter": "python",
   "pygments_lexer": "ipython3",
   "version": "3.10.5"
  },
  "orig_nbformat": 4,
  "vscode": {
   "interpreter": {
    "hash": "a2471f961d196a5250c1705a45800dbb19a75062825d6ee7e8f8d9985c6140c7"
   }
  }
 },
 "nbformat": 4,
 "nbformat_minor": 2
}
