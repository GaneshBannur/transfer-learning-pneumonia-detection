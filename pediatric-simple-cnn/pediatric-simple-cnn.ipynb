{
 "cells": [
  {
   "cell_type": "code",
   "execution_count": 1,
   "metadata": {},
   "outputs": [],
   "source": [
    "from keras.utils import image_dataset_from_directory, set_random_seed\n",
    "from keras.models import Sequential\n",
    "from keras.layers import Conv2D, MaxPooling2D, Dense, Flatten, Rescaling\n",
    "from keras.callbacks import EarlyStopping, ReduceLROnPlateau\n",
    "from keras.metrics import BinaryAccuracy, Precision, Recall\n",
    "import matplotlib.pyplot as plt\n",
    "from numpy import asarray"
   ]
  },
  {
   "cell_type": "code",
   "execution_count": 2,
   "metadata": {},
   "outputs": [],
   "source": [
    "set_random_seed(10)"
   ]
  },
  {
   "cell_type": "code",
   "execution_count": 3,
   "metadata": {},
   "outputs": [],
   "source": [
    "img_size = (1024, 1024)\n",
    "dataset_dir = '/Users/snoopy/Desktop/Other/Harvard/Final Project/pediatric-chest-xrays/chest_xray'"
   ]
  },
  {
   "cell_type": "code",
   "execution_count": 4,
   "metadata": {},
   "outputs": [
    {
     "name": "stdout",
     "output_type": "stream",
     "text": [
      "Found 5216 files belonging to 2 classes.\n",
      "Metal device set to: Apple M1\n",
      "\n",
      "systemMemory: 16.00 GB\n",
      "maxCacheSize: 5.33 GB\n",
      "\n",
      "Found 624 files belonging to 2 classes.\n",
      "Found 16 files belonging to 2 classes.\n"
     ]
    },
    {
     "name": "stderr",
     "output_type": "stream",
     "text": [
      "2022-07-30 12:00:55.649386: I tensorflow/core/common_runtime/pluggable_device/pluggable_device_factory.cc:305] Could not identify NUMA node of platform GPU ID 0, defaulting to 0. Your kernel may not have been built with NUMA support.\n",
      "2022-07-30 12:00:55.649484: I tensorflow/core/common_runtime/pluggable_device/pluggable_device_factory.cc:271] Created TensorFlow device (/job:localhost/replica:0/task:0/device:GPU:0 with 0 MB memory) -> physical PluggableDevice (device: 0, name: METAL, pci bus id: <undefined>)\n"
     ]
    }
   ],
   "source": [
    "train_data = image_dataset_from_directory(directory=dataset_dir+'/train',\n",
    "                                          label_mode='binary',\n",
    "                                          class_names=['NORMAL', 'PNEUMONIA'],\n",
    "                                          color_mode='grayscale',\n",
    "                                          image_size=img_size,\n",
    "                                          shuffle=True)\n",
    "test_data = image_dataset_from_directory(directory=dataset_dir+'/test',\n",
    "                                          label_mode='binary',\n",
    "                                          class_names=['NORMAL', 'PNEUMONIA'],\n",
    "                                          color_mode='grayscale',\n",
    "                                          image_size=img_size)\n",
    "val_data = image_dataset_from_directory(directory=dataset_dir+'/val',\n",
    "                                          label_mode='binary',\n",
    "                                          class_names=['NORMAL', 'PNEUMONIA'],\n",
    "                                          color_mode='grayscale',\n",
    "                                          image_size=img_size)"
   ]
  },
  {
   "cell_type": "code",
   "execution_count": 5,
   "metadata": {},
   "outputs": [],
   "source": [
    "train_len = train_data.__len__().numpy()\n",
    "val_len = int(train_len * 0.2)\n",
    "val_data = val_data.concatenate(train_data.take(val_len))\n",
    "train_data = train_data.skip(val_len)"
   ]
  },
  {
   "cell_type": "code",
   "execution_count": 6,
   "metadata": {},
   "outputs": [],
   "source": [
    "dim1, dim2 = img_size"
   ]
  },
  {
   "cell_type": "code",
   "execution_count": 7,
   "metadata": {},
   "outputs": [],
   "source": [
    "model = Sequential()\n",
    "model.add(Rescaling(scale=1./255, offset=0.0, input_shape=(dim1, dim2, 1)))\n",
    "model.add(Conv2D(filters=5, kernel_size=8, strides=4, padding='valid', activation='selu'))\n",
    "model.add(MaxPooling2D(pool_size=2, strides=2, padding='valid'))\n",
    "model.add(Conv2D(filters=10, kernel_size=4, strides=2, padding='same', activation='selu'))\n",
    "model.add(MaxPooling2D(pool_size=2, strides=2, padding='valid'))\n",
    "model.add(Conv2D(filters=15, kernel_size=2, strides=1, padding='same', activation='selu'))\n",
    "model.add(MaxPooling2D(pool_size=2, strides=2, padding='valid'))\n",
    "model.add(Flatten())\n",
    "model.add(Dense(units=150, activation='selu'))\n",
    "model.add(Dense(units=50, activation='selu'))\n",
    "model.add(Dense(units=10, activation='selu'))\n",
    "model.add(Dense(units=1, activation='sigmoid'))"
   ]
  },
  {
   "cell_type": "code",
   "execution_count": 8,
   "metadata": {},
   "outputs": [
    {
     "name": "stdout",
     "output_type": "stream",
     "text": [
      "Model: \"sequential\"\n",
      "_________________________________________________________________\n",
      " Layer (type)                Output Shape              Param #   \n",
      "=================================================================\n",
      " rescaling (Rescaling)       (None, 1024, 1024, 1)     0         \n",
      "                                                                 \n",
      " conv2d (Conv2D)             (None, 255, 255, 5)       325       \n",
      "                                                                 \n",
      " max_pooling2d (MaxPooling2D  (None, 127, 127, 5)      0         \n",
      " )                                                               \n",
      "                                                                 \n",
      " conv2d_1 (Conv2D)           (None, 64, 64, 10)        810       \n",
      "                                                                 \n",
      " max_pooling2d_1 (MaxPooling  (None, 32, 32, 10)       0         \n",
      " 2D)                                                             \n",
      "                                                                 \n",
      " conv2d_2 (Conv2D)           (None, 32, 32, 15)        615       \n",
      "                                                                 \n",
      " max_pooling2d_2 (MaxPooling  (None, 16, 16, 15)       0         \n",
      " 2D)                                                             \n",
      "                                                                 \n",
      " flatten (Flatten)           (None, 3840)              0         \n",
      "                                                                 \n",
      " dense (Dense)               (None, 150)               576150    \n",
      "                                                                 \n",
      " dense_1 (Dense)             (None, 50)                7550      \n",
      "                                                                 \n",
      " dense_2 (Dense)             (None, 10)                510       \n",
      "                                                                 \n",
      " dense_3 (Dense)             (None, 1)                 11        \n",
      "                                                                 \n",
      "=================================================================\n",
      "Total params: 585,971\n",
      "Trainable params: 585,971\n",
      "Non-trainable params: 0\n",
      "_________________________________________________________________\n"
     ]
    }
   ],
   "source": [
    "model.summary()"
   ]
  },
  {
   "cell_type": "code",
   "execution_count": 9,
   "metadata": {},
   "outputs": [],
   "source": [
    "model.compile(optimizer='adam',\n",
    "              loss='binary_crossentropy',\n",
    "              metrics=[BinaryAccuracy(name='accuracy'),\n",
    "                       Precision(thresholds=0.5, name='precision'),\n",
    "                       Recall(thresholds=0.5, name='recall')])"
   ]
  },
  {
   "cell_type": "code",
   "execution_count": 10,
   "metadata": {},
   "outputs": [],
   "source": [
    "early_stopping = EarlyStopping(monitor='val_loss',\n",
    "                               min_delta=0.0001,\n",
    "                               patience=10,\n",
    "                               verbose=1,\n",
    "                               mode='min',\n",
    "                               restore_best_weights=True)"
   ]
  },
  {
   "cell_type": "code",
   "execution_count": 11,
   "metadata": {},
   "outputs": [],
   "source": [
    "reduce_lr = ReduceLROnPlateau(monitor='val_loss',\n",
    "                              factor=0.1,\n",
    "                              patience=5,\n",
    "                              verbose=1,\n",
    "                              mode='min',\n",
    "                              min_delta=0.0001)"
   ]
  },
  {
   "cell_type": "code",
   "execution_count": 12,
   "metadata": {},
   "outputs": [
    {
     "name": "stdout",
     "output_type": "stream",
     "text": [
      "Epoch 1/50\n"
     ]
    },
    {
     "name": "stderr",
     "output_type": "stream",
     "text": [
      "2022-07-30 12:00:56.452887: W tensorflow/core/platform/profile_utils/cpu_utils.cc:128] Failed to get CPU frequency: 0 Hz\n",
      "2022-07-30 12:00:56.453209: I tensorflow/core/grappler/optimizers/custom_graph_optimizer_registry.cc:113] Plugin optimizer for device_type GPU is enabled.\n"
     ]
    },
    {
     "name": "stdout",
     "output_type": "stream",
     "text": [
      "131/131 [==============================] - ETA: 0s - loss: 0.3414 - accuracy: 0.8547 - precision: 0.8725 - recall: 0.9418"
     ]
    },
    {
     "name": "stderr",
     "output_type": "stream",
     "text": [
      "2022-07-30 12:01:24.761970: I tensorflow/core/grappler/optimizers/custom_graph_optimizer_registry.cc:113] Plugin optimizer for device_type GPU is enabled.\n"
     ]
    },
    {
     "name": "stdout",
     "output_type": "stream",
     "text": [
      "131/131 [==============================] - 32s 220ms/step - loss: 0.3414 - accuracy: 0.8547 - precision: 0.8725 - recall: 0.9418 - val_loss: 0.1350 - val_accuracy: 0.9510 - val_precision: 0.9614 - val_recall: 0.9727 - lr: 0.0010\n",
      "Epoch 2/50\n",
      "131/131 [==============================] - 29s 209ms/step - loss: 0.1029 - accuracy: 0.9652 - precision: 0.9741 - recall: 0.9791 - val_loss: 0.0974 - val_accuracy: 0.9654 - val_precision: 0.9679 - val_recall: 0.9856 - lr: 0.0010\n",
      "Epoch 3/50\n",
      "131/131 [==============================] - 30s 213ms/step - loss: 0.0885 - accuracy: 0.9673 - precision: 0.9761 - recall: 0.9801 - val_loss: 0.0807 - val_accuracy: 0.9731 - val_precision: 0.9829 - val_recall: 0.9803 - lr: 0.0010\n",
      "Epoch 4/50\n",
      "131/131 [==============================] - 29s 209ms/step - loss: 0.0831 - accuracy: 0.9709 - precision: 0.9798 - recall: 0.9810 - val_loss: 0.1221 - val_accuracy: 0.9538 - val_precision: 0.9487 - val_recall: 0.9908 - lr: 0.0010\n",
      "Epoch 5/50\n",
      "131/131 [==============================] - 30s 215ms/step - loss: 0.0740 - accuracy: 0.9742 - precision: 0.9812 - recall: 0.9843 - val_loss: 0.0933 - val_accuracy: 0.9635 - val_precision: 0.9691 - val_recall: 0.9817 - lr: 0.0010\n",
      "Epoch 6/50\n",
      "131/131 [==============================] - 30s 218ms/step - loss: 0.0559 - accuracy: 0.9797 - precision: 0.9859 - recall: 0.9868 - val_loss: 0.0718 - val_accuracy: 0.9692 - val_precision: 0.9709 - val_recall: 0.9884 - lr: 0.0010\n",
      "Epoch 7/50\n",
      "131/131 [==============================] - 30s 211ms/step - loss: 0.0509 - accuracy: 0.9826 - precision: 0.9878 - recall: 0.9888 - val_loss: 0.0748 - val_accuracy: 0.9731 - val_precision: 0.9732 - val_recall: 0.9909 - lr: 0.0010\n",
      "Epoch 8/50\n",
      "131/131 [==============================] - 30s 212ms/step - loss: 0.0379 - accuracy: 0.9869 - precision: 0.9907 - recall: 0.9916 - val_loss: 0.0661 - val_accuracy: 0.9788 - val_precision: 0.9845 - val_recall: 0.9871 - lr: 0.0010\n",
      "Epoch 9/50\n",
      "131/131 [==============================] - 30s 212ms/step - loss: 0.0646 - accuracy: 0.9754 - precision: 0.9831 - recall: 0.9840 - val_loss: 0.0672 - val_accuracy: 0.9750 - val_precision: 0.9833 - val_recall: 0.9833 - lr: 0.0010\n",
      "Epoch 10/50\n",
      "131/131 [==============================] - 30s 211ms/step - loss: 0.0237 - accuracy: 0.9905 - precision: 0.9933 - recall: 0.9939 - val_loss: 0.0714 - val_accuracy: 0.9721 - val_precision: 0.9731 - val_recall: 0.9896 - lr: 0.0010\n",
      "Epoch 11/50\n",
      "131/131 [==============================] - 30s 212ms/step - loss: 0.0166 - accuracy: 0.9945 - precision: 0.9961 - recall: 0.9965 - val_loss: 0.0769 - val_accuracy: 0.9712 - val_precision: 0.9817 - val_recall: 0.9792 - lr: 0.0010\n",
      "Epoch 12/50\n",
      "131/131 [==============================] - 30s 212ms/step - loss: 0.0239 - accuracy: 0.9905 - precision: 0.9936 - recall: 0.9936 - val_loss: 0.0792 - val_accuracy: 0.9731 - val_precision: 0.9781 - val_recall: 0.9857 - lr: 0.0010\n",
      "Epoch 13/50\n",
      "131/131 [==============================] - ETA: 0s - loss: 0.0132 - accuracy: 0.9952 - precision: 0.9968 - recall: 0.9968\n",
      "Epoch 13: ReduceLROnPlateau reducing learning rate to 0.00010000000474974513.\n",
      "131/131 [==============================] - 30s 212ms/step - loss: 0.0132 - accuracy: 0.9952 - precision: 0.9968 - recall: 0.9968 - val_loss: 0.0666 - val_accuracy: 0.9788 - val_precision: 0.9895 - val_recall: 0.9817 - lr: 0.0010\n",
      "Epoch 14/50\n",
      "131/131 [==============================] - 30s 212ms/step - loss: 0.0046 - accuracy: 0.9986 - precision: 0.9990 - recall: 0.9990 - val_loss: 0.0658 - val_accuracy: 0.9798 - val_precision: 0.9819 - val_recall: 0.9909 - lr: 1.0000e-04\n",
      "Epoch 15/50\n",
      "131/131 [==============================] - 30s 213ms/step - loss: 0.0049 - accuracy: 0.9993 - precision: 0.9997 - recall: 0.9994 - val_loss: 0.0660 - val_accuracy: 0.9788 - val_precision: 0.9820 - val_recall: 0.9896 - lr: 1.0000e-04\n",
      "Epoch 16/50\n",
      "131/131 [==============================] - 30s 212ms/step - loss: 0.0024 - accuracy: 0.9998 - precision: 1.0000 - recall: 0.9997 - val_loss: 0.0691 - val_accuracy: 0.9760 - val_precision: 0.9768 - val_recall: 0.9908 - lr: 1.0000e-04\n",
      "Epoch 17/50\n",
      "131/131 [==============================] - 30s 212ms/step - loss: 0.0076 - accuracy: 0.9988 - precision: 0.9990 - recall: 0.9994 - val_loss: 0.0641 - val_accuracy: 0.9779 - val_precision: 0.9806 - val_recall: 0.9896 - lr: 1.0000e-04\n",
      "Epoch 18/50\n",
      "131/131 [==============================] - 30s 212ms/step - loss: 0.0017 - accuracy: 0.9998 - precision: 0.9997 - recall: 1.0000 - val_loss: 0.0649 - val_accuracy: 0.9788 - val_precision: 0.9821 - val_recall: 0.9897 - lr: 1.0000e-04\n",
      "Epoch 19/50\n",
      "131/131 [==============================] - 30s 212ms/step - loss: 0.0024 - accuracy: 0.9995 - precision: 0.9997 - recall: 0.9997 - val_loss: 0.0633 - val_accuracy: 0.9808 - val_precision: 0.9806 - val_recall: 0.9935 - lr: 1.0000e-04\n",
      "Epoch 20/50\n",
      "131/131 [==============================] - 30s 212ms/step - loss: 0.0019 - accuracy: 0.9998 - precision: 0.9997 - recall: 1.0000 - val_loss: 0.0615 - val_accuracy: 0.9798 - val_precision: 0.9819 - val_recall: 0.9909 - lr: 1.0000e-04\n",
      "Epoch 21/50\n",
      "131/131 [==============================] - 30s 212ms/step - loss: 0.0023 - accuracy: 0.9995 - precision: 0.9997 - recall: 0.9997 - val_loss: 0.0657 - val_accuracy: 0.9769 - val_precision: 0.9755 - val_recall: 0.9934 - lr: 1.0000e-04\n",
      "Epoch 22/50\n",
      "131/131 [==============================] - 30s 213ms/step - loss: 0.0025 - accuracy: 0.9993 - precision: 0.9994 - recall: 0.9997 - val_loss: 0.0619 - val_accuracy: 0.9798 - val_precision: 0.9805 - val_recall: 0.9921 - lr: 1.0000e-04\n",
      "Epoch 23/50\n",
      "131/131 [==============================] - 30s 213ms/step - loss: 0.0041 - accuracy: 0.9993 - precision: 0.9994 - recall: 0.9997 - val_loss: 0.0574 - val_accuracy: 0.9808 - val_precision: 0.9808 - val_recall: 0.9935 - lr: 1.0000e-04\n",
      "Epoch 24/50\n",
      "131/131 [==============================] - 30s 212ms/step - loss: 0.0013 - accuracy: 0.9998 - precision: 0.9997 - recall: 1.0000 - val_loss: 0.0575 - val_accuracy: 0.9817 - val_precision: 0.9818 - val_recall: 0.9934 - lr: 1.0000e-04\n",
      "Epoch 25/50\n",
      "131/131 [==============================] - 30s 212ms/step - loss: 0.0011 - accuracy: 1.0000 - precision: 1.0000 - recall: 1.0000 - val_loss: 0.0588 - val_accuracy: 0.9827 - val_precision: 0.9834 - val_recall: 0.9935 - lr: 1.0000e-04\n",
      "Epoch 26/50\n",
      "131/131 [==============================] - 30s 212ms/step - loss: 0.0016 - accuracy: 0.9998 - precision: 0.9997 - recall: 1.0000 - val_loss: 0.0489 - val_accuracy: 0.9837 - val_precision: 0.9831 - val_recall: 0.9947 - lr: 1.0000e-04\n",
      "Epoch 27/50\n",
      "131/131 [==============================] - 29s 210ms/step - loss: 0.0010 - accuracy: 0.9998 - precision: 0.9997 - recall: 1.0000 - val_loss: 0.0554 - val_accuracy: 0.9837 - val_precision: 0.9843 - val_recall: 0.9934 - lr: 1.0000e-04\n",
      "Epoch 28/50\n",
      "131/131 [==============================] - 30s 214ms/step - loss: 8.5434e-04 - accuracy: 1.0000 - precision: 1.0000 - recall: 1.0000 - val_loss: 0.0509 - val_accuracy: 0.9846 - val_precision: 0.9847 - val_recall: 0.9949 - lr: 1.0000e-04\n",
      "Epoch 29/50\n",
      "131/131 [==============================] - 30s 213ms/step - loss: 0.0013 - accuracy: 0.9998 - precision: 0.9997 - recall: 1.0000 - val_loss: 0.0565 - val_accuracy: 0.9827 - val_precision: 0.9846 - val_recall: 0.9922 - lr: 1.0000e-04\n",
      "Epoch 30/50\n",
      "131/131 [==============================] - 29s 208ms/step - loss: 5.3498e-04 - accuracy: 1.0000 - precision: 1.0000 - recall: 1.0000 - val_loss: 0.0587 - val_accuracy: 0.9837 - val_precision: 0.9846 - val_recall: 0.9935 - lr: 1.0000e-04\n",
      "Epoch 31/50\n",
      "131/131 [==============================] - ETA: 0s - loss: 0.0010 - accuracy: 0.9998 - precision: 0.9997 - recall: 1.0000\n",
      "Epoch 31: ReduceLROnPlateau reducing learning rate to 1.0000000474974514e-05.\n",
      "131/131 [==============================] - 29s 209ms/step - loss: 0.0010 - accuracy: 0.9998 - precision: 0.9997 - recall: 1.0000 - val_loss: 0.0572 - val_accuracy: 0.9846 - val_precision: 0.9857 - val_recall: 0.9935 - lr: 1.0000e-04\n",
      "Epoch 32/50\n",
      "131/131 [==============================] - 30s 212ms/step - loss: 4.5294e-04 - accuracy: 1.0000 - precision: 1.0000 - recall: 1.0000 - val_loss: 0.0550 - val_accuracy: 0.9846 - val_precision: 0.9858 - val_recall: 0.9935 - lr: 1.0000e-05\n",
      "Epoch 33/50\n",
      "131/131 [==============================] - 30s 211ms/step - loss: 5.5500e-04 - accuracy: 1.0000 - precision: 1.0000 - recall: 1.0000 - val_loss: 0.0541 - val_accuracy: 0.9846 - val_precision: 0.9856 - val_recall: 0.9934 - lr: 1.0000e-05\n",
      "Epoch 34/50\n",
      "131/131 [==============================] - 30s 212ms/step - loss: 4.4597e-04 - accuracy: 1.0000 - precision: 1.0000 - recall: 1.0000 - val_loss: 0.0558 - val_accuracy: 0.9846 - val_precision: 0.9857 - val_recall: 0.9935 - lr: 1.0000e-05\n",
      "Epoch 35/50\n",
      "131/131 [==============================] - 30s 212ms/step - loss: 5.9060e-04 - accuracy: 1.0000 - precision: 1.0000 - recall: 1.0000 - val_loss: 0.0535 - val_accuracy: 0.9846 - val_precision: 0.9858 - val_recall: 0.9935 - lr: 1.0000e-05\n",
      "Epoch 36/50\n",
      "131/131 [==============================] - ETA: 0s - loss: 4.5343e-04 - accuracy: 1.0000 - precision: 1.0000 - recall: 1.0000Restoring model weights from the end of the best epoch: 26.\n",
      "\n",
      "Epoch 36: ReduceLROnPlateau reducing learning rate to 1.0000000656873453e-06.\n",
      "131/131 [==============================] - 30s 212ms/step - loss: 4.5343e-04 - accuracy: 1.0000 - precision: 1.0000 - recall: 1.0000 - val_loss: 0.0556 - val_accuracy: 0.9837 - val_precision: 0.9844 - val_recall: 0.9935 - lr: 1.0000e-05\n",
      "Epoch 36: early stopping\n"
     ]
    }
   ],
   "source": [
    "history = model.fit(train_data,\n",
    "                    epochs=50,\n",
    "                    verbose=1,\n",
    "                    callbacks=[early_stopping, reduce_lr],\n",
    "                    validation_data=val_data,\n",
    "                    shuffle=True)"
   ]
  },
  {
   "cell_type": "code",
   "execution_count": 13,
   "metadata": {},
   "outputs": [
    {
     "name": "stderr",
     "output_type": "stream",
     "text": [
      "WARNING:absl:Found untraced functions such as _jit_compiled_convolution_op, _jit_compiled_convolution_op, _jit_compiled_convolution_op while saving (showing 3 of 3). These functions will not be directly callable after loading.\n"
     ]
    },
    {
     "name": "stdout",
     "output_type": "stream",
     "text": [
      "INFO:tensorflow:Assets written to: pediatric_simple_cnn_30_July_2022/assets\n"
     ]
    },
    {
     "name": "stderr",
     "output_type": "stream",
     "text": [
      "INFO:tensorflow:Assets written to: pediatric_simple_cnn_30_July_2022/assets\n"
     ]
    }
   ],
   "source": [
    "model.save('pediatric_simple_cnn_30_July_2022', overwrite=False, include_optimizer=True)"
   ]
  },
  {
   "cell_type": "code",
   "execution_count": 14,
   "metadata": {},
   "outputs": [],
   "source": [
    "train_precision = asarray(history.history['precision'])\n",
    "train_recall = asarray(history.history['recall'])\n",
    "val_precision = asarray(history.history['val_precision'])\n",
    "val_recall = asarray(history.history['val_recall'])\n",
    "train_f1 = 2./(1./train_precision+1./train_recall)\n",
    "val_f1 = 2./(1./val_precision+1./val_recall)"
   ]
  },
  {
   "cell_type": "code",
   "execution_count": 15,
   "metadata": {},
   "outputs": [],
   "source": [
    "epochs = range(len(history.history['loss']))"
   ]
  },
  {
   "cell_type": "code",
   "execution_count": 16,
   "metadata": {},
   "outputs": [
    {
     "name": "stdout",
     "output_type": "stream",
     "text": [
      "Train precision:  1.0\n",
      "Train recall:  1.0\n",
      "Validation precision:  0.9844357967376709\n",
      "Vlaidation recall:  0.9934555292129517\n",
      "F1 score in train set:  1.0\n",
      "F1 score on validation set:  0.9889250967356856\n"
     ]
    }
   ],
   "source": [
    "print(\"Train precision: \", train_precision[-1])\n",
    "print(\"Train recall: \", train_recall[-1])\n",
    "print(\"Validation precision: \", val_precision[-1])\n",
    "print(\"Vlaidation recall: \", val_recall[-1])\n",
    "print(\"F1 score in train set: \", train_f1[-1])\n",
    "print(\"F1 score on validation set: \", val_f1[-1])"
   ]
  },
  {
   "cell_type": "code",
   "execution_count": 17,
   "metadata": {},
   "outputs": [
    {
     "data": {
      "image/png": "[encoded data removed]",
      "text/plain": [
       "<Figure size 432x288 with 1 Axes>"
      ]
     },
     "metadata": {
      "needs_background": "light"
     },
     "output_type": "display_data"
    }
   ],
   "source": [
    "plt.figure()\n",
    "plt.plot(epochs, train_f1, 'r', label='Train F1 score')\n",
    "plt.plot(epochs, val_f1, 'b', label='Validation F1 score')\n",
    "plt.title('Train and validation F1 scores')\n",
    "plt.legend()\n",
    "plt.show()"
   ]
  },
  {
   "cell_type": "code",
   "execution_count": 18,
   "metadata": {},
   "outputs": [
    {
     "data": {
      "image/png": "[encoded data removed]",
      "text/plain": [
       "<Figure size 432x288 with 1 Axes>"
      ]
     },
     "metadata": {
      "needs_background": "light"
     },
     "output_type": "display_data"
    }
   ],
   "source": [
    "loss = history.history['loss']\n",
    "val_loss = history.history['val_loss']\n",
    "plt.figure()\n",
    "plt.plot(epochs, loss, 'r', label='Training loss')\n",
    "plt.plot(epochs, val_loss, 'b', label='Validation loss')\n",
    "plt.title('Training and validation loss')\n",
    "plt.legend()\n",
    "plt.show()"
   ]
  },
  {
   "cell_type": "code",
   "execution_count": 19,
   "metadata": {},
   "outputs": [
    {
     "data": {
      "image/png": "[encoded data removed]",
      "text/plain": [
       "<Figure size 432x288 with 1 Axes>"
      ]
     },
     "metadata": {
      "needs_background": "light"
     },
     "output_type": "display_data"
    }
   ],
   "source": [
    "acc = history.history['accuracy']\n",
    "val_acc = history.history['val_accuracy']\n",
    "plt.figure()\n",
    "plt.plot(epochs, acc, 'r', label='Training accuracy')\n",
    "plt.plot(epochs, val_acc, 'b', label='Validation accuracy')\n",
    "plt.title('Training and validation accuracy')\n",
    "plt.legend()\n",
    "plt.show()"
   ]
  },
  {
   "cell_type": "code",
   "execution_count": 20,
   "metadata": {},
   "outputs": [
    {
     "name": "stdout",
     "output_type": "stream",
     "text": [
      "20/20 [==============================] - 2s 64ms/step - loss: 1.8364 - accuracy: 0.7564 - precision: 0.7220 - recall: 0.9923\n"
     ]
    }
   ],
   "source": [
    "test_history = model.evaluate(test_data,\n",
    "                              verbose=1)"
   ]
  },
  {
   "cell_type": "code",
   "execution_count": 21,
   "metadata": {},
   "outputs": [],
   "source": [
    "test_acc = test_history[1]\n",
    "test_precision = test_history[2]\n",
    "test_recall = test_history[3]\n",
    "test_f1 = 2./(1./test_precision+1./test_recall)"
   ]
  },
  {
   "cell_type": "code",
   "execution_count": 22,
   "metadata": {},
   "outputs": [
    {
     "name": "stdout",
     "output_type": "stream",
     "text": [
      "Test accuracy:  0.7564102411270142\n",
      "Test precision:  0.7220149040222168\n",
      "Test recall:  0.992307722568512\n",
      "F1 score on test set:  0.8358531281776682\n"
     ]
    }
   ],
   "source": [
    "print(\"Test accuracy: \", test_acc)\n",
    "print(\"Test precision: \", test_precision)\n",
    "print(\"Test recall: \", test_recall)\n",
    "print(\"F1 score on test set: \", test_f1)"
   ]
  }
 ],
 "metadata": {
  "kernelspec": {
   "display_name": "Python 3.10.5 ('harvard-tensorflow')",
   "language": "python",
   "name": "python3"
  },
  "language_info": {
   "codemirror_mode": {
    "name": "ipython",
    "version": 3
   },
   "file_extension": ".py",
   "mimetype": "text/x-python",
   "name": "python",
   "nbconvert_exporter": "python",
   "pygments_lexer": "ipython3",
   "version": "3.10.5"
  },
  "orig_nbformat": 4,
  "vscode": {
   "interpreter": {
    "hash": "a2471f961d196a5250c1705a45800dbb19a75062825d6ee7e8f8d9985c6140c7"
   }
  }
 },
 "nbformat": 4,
 "nbformat_minor": 2
}
