{
 "cells": [
  {
   "cell_type": "code",
   "execution_count": 1,
   "metadata": {},
   "outputs": [],
   "source": [
    "from keras.utils import image_dataset_from_directory, set_random_seed\n",
    "from keras.models import Sequential\n",
    "from keras.layers import Conv2D, MaxPooling2D, Dense, Flatten, Rescaling\n",
    "from keras.callbacks import EarlyStopping, ReduceLROnPlateau\n",
    "from keras.metrics import BinaryAccuracy, Precision, Recall\n",
    "import matplotlib.pyplot as plt\n",
    "from numpy import asarray"
   ]
  },
  {
   "cell_type": "code",
   "execution_count": 2,
   "metadata": {},
   "outputs": [],
   "source": [
    "set_random_seed(10)"
   ]
  },
  {
   "cell_type": "code",
   "execution_count": 3,
   "metadata": {},
   "outputs": [],
   "source": [
    "img_size = (1024, 1024)\n",
    "dataset_dir = '/Users/snoopy/Desktop/Other/Harvard/Final Project/RSNA/RSNA-jpeg'"
   ]
  },
  {
   "cell_type": "code",
   "execution_count": 4,
   "metadata": {},
   "outputs": [
    {
     "name": "stdout",
     "output_type": "stream",
     "text": [
      "Found 5216 files belonging to 2 classes.\n",
      "Metal device set to: Apple M1\n",
      "\n",
      "systemMemory: 16.00 GB\n",
      "maxCacheSize: 5.33 GB\n",
      "\n",
      "Found 624 files belonging to 2 classes.\n",
      "Found 16 files belonging to 2 classes.\n"
     ]
    },
    {
     "name": "stderr",
     "output_type": "stream",
     "text": [
      "2022-07-30 15:53:33.354678: I tensorflow/core/common_runtime/pluggable_device/pluggable_device_factory.cc:305] Could not identify NUMA node of platform GPU ID 0, defaulting to 0. Your kernel may not have been built with NUMA support.\n",
      "2022-07-30 15:53:33.354830: I tensorflow/core/common_runtime/pluggable_device/pluggable_device_factory.cc:271] Created TensorFlow device (/job:localhost/replica:0/task:0/device:GPU:0 with 0 MB memory) -> physical PluggableDevice (device: 0, name: METAL, pci bus id: <undefined>)\n"
     ]
    }
   ],
   "source": [
    "train_data = image_dataset_from_directory(directory=dataset_dir+'/train',\n",
    "                                          label_mode='binary',\n",
    "                                          class_names=['normal', 'pneumonia'],\n",
    "                                          color_mode='grayscale',\n",
    "                                          image_size=img_size,\n",
    "                                          shuffle=True)\n",
    "test_data = image_dataset_from_directory(directory=dataset_dir+'/test',\n",
    "                                          label_mode='binary',\n",
    "                                          class_names=['normal', 'pneumonia'],\n",
    "                                          color_mode='grayscale',\n",
    "                                          image_size=img_size)\n",
    "val_data = image_dataset_from_directory(directory=dataset_dir+'/val',\n",
    "                                          label_mode='binary',\n",
    "                                          class_names=['normal', 'pneumonia'],\n",
    "                                          color_mode='grayscale',\n",
    "                                          image_size=img_size)"
   ]
  },
  {
   "cell_type": "code",
   "execution_count": 5,
   "metadata": {},
   "outputs": [],
   "source": [
    "train_len = train_data.__len__().numpy()\n",
    "val_len = int(train_len * 0.2)\n",
    "val_data = val_data.concatenate(train_data.take(val_len))\n",
    "train_data = train_data.skip(val_len)"
   ]
  },
  {
   "cell_type": "code",
   "execution_count": 6,
   "metadata": {},
   "outputs": [],
   "source": [
    "dim1, dim2 = img_size"
   ]
  },
  {
   "cell_type": "code",
   "execution_count": 7,
   "metadata": {},
   "outputs": [],
   "source": [
    "model = Sequential()\n",
    "model.add(Rescaling(scale=1./255, offset=0.0, input_shape=(dim1, dim2, 1)))\n",
    "model.add(Conv2D(filters=5, kernel_size=8, strides=4, padding='valid', activation='selu'))\n",
    "model.add(MaxPooling2D(pool_size=2, strides=2, padding='valid'))\n",
    "model.add(Conv2D(filters=10, kernel_size=4, strides=2, padding='same', activation='selu'))\n",
    "model.add(MaxPooling2D(pool_size=2, strides=2, padding='valid'))\n",
    "model.add(Conv2D(filters=15, kernel_size=2, strides=1, padding='same', activation='selu'))\n",
    "model.add(MaxPooling2D(pool_size=2, strides=2, padding='valid'))\n",
    "model.add(Flatten())\n",
    "model.add(Dense(units=150, activation='selu'))\n",
    "model.add(Dense(units=50, activation='selu'))\n",
    "model.add(Dense(units=10, activation='selu'))\n",
    "model.add(Dense(units=1, activation='sigmoid'))"
   ]
  },
  {
   "cell_type": "code",
   "execution_count": 8,
   "metadata": {},
   "outputs": [
    {
     "name": "stdout",
     "output_type": "stream",
     "text": [
      "Model: \"sequential\"\n",
      "_________________________________________________________________\n",
      " Layer (type)                Output Shape              Param #   \n",
      "=================================================================\n",
      " rescaling (Rescaling)       (None, 1024, 1024, 1)     0         \n",
      "                                                                 \n",
      " conv2d (Conv2D)             (None, 255, 255, 5)       325       \n",
      "                                                                 \n",
      " max_pooling2d (MaxPooling2D  (None, 127, 127, 5)      0         \n",
      " )                                                               \n",
      "                                                                 \n",
      " conv2d_1 (Conv2D)           (None, 64, 64, 10)        810       \n",
      "                                                                 \n",
      " max_pooling2d_1 (MaxPooling  (None, 32, 32, 10)       0         \n",
      " 2D)                                                             \n",
      "                                                                 \n",
      " conv2d_2 (Conv2D)           (None, 32, 32, 15)        615       \n",
      "                                                                 \n",
      " max_pooling2d_2 (MaxPooling  (None, 16, 16, 15)       0         \n",
      " 2D)                                                             \n",
      "                                                                 \n",
      " flatten (Flatten)           (None, 3840)              0         \n",
      "                                                                 \n",
      " dense (Dense)               (None, 150)               576150    \n",
      "                                                                 \n",
      " dense_1 (Dense)             (None, 50)                7550      \n",
      "                                                                 \n",
      " dense_2 (Dense)             (None, 10)                510       \n",
      "                                                                 \n",
      " dense_3 (Dense)             (None, 1)                 11        \n",
      "                                                                 \n",
      "=================================================================\n",
      "Total params: 585,971\n",
      "Trainable params: 585,971\n",
      "Non-trainable params: 0\n",
      "_________________________________________________________________\n"
     ]
    }
   ],
   "source": [
    "model.summary()"
   ]
  },
  {
   "cell_type": "code",
   "execution_count": 9,
   "metadata": {},
   "outputs": [],
   "source": [
    "model.compile(optimizer='adam',\n",
    "              loss='binary_crossentropy',\n",
    "              metrics=[BinaryAccuracy(name='accuracy'),\n",
    "                       Precision(thresholds=0.5, name='precision'),\n",
    "                       Recall(thresholds=0.5, name='recall')])"
   ]
  },
  {
   "cell_type": "code",
   "execution_count": 10,
   "metadata": {},
   "outputs": [],
   "source": [
    "early_stopping = EarlyStopping(monitor='val_loss',\n",
    "                               min_delta=0.0001,\n",
    "                               patience=10,\n",
    "                               verbose=1,\n",
    "                               mode='min',\n",
    "                               restore_best_weights=True)"
   ]
  },
  {
   "cell_type": "code",
   "execution_count": 11,
   "metadata": {},
   "outputs": [],
   "source": [
    "reduce_lr = ReduceLROnPlateau(monitor='val_loss',\n",
    "                              factor=0.1,\n",
    "                              patience=5,\n",
    "                              verbose=1,\n",
    "                              mode='min',\n",
    "                              min_delta=0.0001)"
   ]
  },
  {
   "cell_type": "code",
   "execution_count": 12,
   "metadata": {},
   "outputs": [
    {
     "name": "stdout",
     "output_type": "stream",
     "text": [
      "Epoch 1/50\n"
     ]
    },
    {
     "name": "stderr",
     "output_type": "stream",
     "text": [
      "2022-07-30 15:53:53.048093: W tensorflow/core/platform/profile_utils/cpu_utils.cc:128] Failed to get CPU frequency: 0 Hz\n",
      "2022-07-30 15:53:53.048709: I tensorflow/core/grappler/optimizers/custom_graph_optimizer_registry.cc:113] Plugin optimizer for device_type GPU is enabled.\n"
     ]
    },
    {
     "name": "stdout",
     "output_type": "stream",
     "text": [
      "131/131 [==============================] - ETA: 0s - loss: 0.5975 - accuracy: 0.7312 - precision: 0.7519 - recall: 0.9514"
     ]
    },
    {
     "name": "stderr",
     "output_type": "stream",
     "text": [
      "2022-07-30 15:54:20.434129: I tensorflow/core/grappler/optimizers/custom_graph_optimizer_registry.cc:113] Plugin optimizer for device_type GPU is enabled.\n"
     ]
    },
    {
     "name": "stdout",
     "output_type": "stream",
     "text": [
      "131/131 [==============================] - 31s 216ms/step - loss: 0.5975 - accuracy: 0.7312 - precision: 0.7519 - recall: 0.9514 - val_loss: 0.5049 - val_accuracy: 0.7644 - val_precision: 0.7649 - val_recall: 0.9831 - lr: 0.0010\n",
      "Epoch 2/50\n",
      "131/131 [==============================] - 29s 208ms/step - loss: 0.4904 - accuracy: 0.7724 - precision: 0.7948 - recall: 0.9351 - val_loss: 0.4971 - val_accuracy: 0.7769 - val_precision: 0.7846 - val_recall: 0.9608 - lr: 0.0010\n",
      "Epoch 3/50\n",
      "131/131 [==============================] - 29s 207ms/step - loss: 0.4743 - accuracy: 0.7808 - precision: 0.8046 - recall: 0.9318 - val_loss: 0.4997 - val_accuracy: 0.7788 - val_precision: 0.7832 - val_recall: 0.9659 - lr: 0.0010\n",
      "Epoch 4/50\n",
      "131/131 [==============================] - 28s 206ms/step - loss: 0.4891 - accuracy: 0.7715 - precision: 0.8011 - recall: 0.9206 - val_loss: 0.4981 - val_accuracy: 0.7702 - val_precision: 0.7792 - val_recall: 0.9595 - lr: 0.0010\n",
      "Epoch 5/50\n",
      "131/131 [==============================] - 28s 205ms/step - loss: 0.4730 - accuracy: 0.7789 - precision: 0.8081 - recall: 0.9218 - val_loss: 0.4763 - val_accuracy: 0.7721 - val_precision: 0.8023 - val_recall: 0.9164 - lr: 0.0010\n",
      "Epoch 6/50\n",
      "131/131 [==============================] - 28s 206ms/step - loss: 0.4622 - accuracy: 0.7801 - precision: 0.8087 - recall: 0.9215 - val_loss: 0.5037 - val_accuracy: 0.7788 - val_precision: 0.7771 - val_recall: 0.9871 - lr: 0.0010\n",
      "Epoch 7/50\n",
      "131/131 [==============================] - 28s 206ms/step - loss: 0.4566 - accuracy: 0.7915 - precision: 0.8190 - recall: 0.9240 - val_loss: 0.4723 - val_accuracy: 0.7779 - val_precision: 0.8257 - val_recall: 0.8869 - lr: 0.0010\n",
      "Epoch 8/50\n",
      "131/131 [==============================] - 28s 206ms/step - loss: 0.4522 - accuracy: 0.7910 - precision: 0.8187 - recall: 0.9229 - val_loss: 0.4810 - val_accuracy: 0.7798 - val_precision: 0.7900 - val_recall: 0.9586 - lr: 0.0010\n",
      "Epoch 9/50\n",
      "131/131 [==============================] - 28s 206ms/step - loss: 0.4460 - accuracy: 0.7989 - precision: 0.8230 - recall: 0.9306 - val_loss: 0.4627 - val_accuracy: 0.7750 - val_precision: 0.8307 - val_recall: 0.8777 - lr: 0.0010\n",
      "Epoch 10/50\n",
      "131/131 [==============================] - 28s 206ms/step - loss: 0.4415 - accuracy: 0.8008 - precision: 0.8286 - recall: 0.9230 - val_loss: 0.4768 - val_accuracy: 0.7837 - val_precision: 0.8011 - val_recall: 0.9400 - lr: 0.0010\n",
      "Epoch 11/50\n",
      "131/131 [==============================] - 28s 206ms/step - loss: 0.4396 - accuracy: 0.7975 - precision: 0.8247 - recall: 0.9235 - val_loss: 0.4638 - val_accuracy: 0.7817 - val_precision: 0.8122 - val_recall: 0.9168 - lr: 0.0010\n",
      "Epoch 12/50\n",
      "131/131 [==============================] - 28s 206ms/step - loss: 0.4300 - accuracy: 0.7996 - precision: 0.8308 - recall: 0.9172 - val_loss: 0.5492 - val_accuracy: 0.7673 - val_precision: 0.7670 - val_recall: 0.9844 - lr: 0.0010\n",
      "Epoch 13/50\n",
      "131/131 [==============================] - 28s 206ms/step - loss: 0.4334 - accuracy: 0.8053 - precision: 0.8294 - recall: 0.9290 - val_loss: 0.4754 - val_accuracy: 0.7779 - val_precision: 0.8365 - val_recall: 0.8681 - lr: 0.0010\n",
      "Epoch 14/50\n",
      "131/131 [==============================] - ETA: 0s - loss: 0.4141 - accuracy: 0.8099 - precision: 0.8385 - recall: 0.9217\n",
      "Epoch 14: ReduceLROnPlateau reducing learning rate to 0.00010000000474974513.\n",
      "131/131 [==============================] - 28s 207ms/step - loss: 0.4141 - accuracy: 0.8099 - precision: 0.8385 - recall: 0.9217 - val_loss: 0.4631 - val_accuracy: 0.7721 - val_precision: 0.8208 - val_recall: 0.8840 - lr: 0.0010\n",
      "Epoch 15/50\n",
      "131/131 [==============================] - 28s 206ms/step - loss: 0.3796 - accuracy: 0.8347 - precision: 0.8525 - recall: 0.9403 - val_loss: 0.4563 - val_accuracy: 0.7865 - val_precision: 0.8235 - val_recall: 0.9067 - lr: 1.0000e-04\n",
      "Epoch 16/50\n",
      "131/131 [==============================] - 28s 206ms/step - loss: 0.3710 - accuracy: 0.8390 - precision: 0.8566 - recall: 0.9414 - val_loss: 0.4642 - val_accuracy: 0.7913 - val_precision: 0.8252 - val_recall: 0.9084 - lr: 1.0000e-04\n",
      "Epoch 17/50\n",
      "131/131 [==============================] - 28s 206ms/step - loss: 0.3665 - accuracy: 0.8404 - precision: 0.8564 - recall: 0.9435 - val_loss: 0.4542 - val_accuracy: 0.7962 - val_precision: 0.8317 - val_recall: 0.9076 - lr: 1.0000e-04\n",
      "Epoch 18/50\n",
      "131/131 [==============================] - 28s 206ms/step - loss: 0.3606 - accuracy: 0.8442 - precision: 0.8589 - recall: 0.9453 - val_loss: 0.4570 - val_accuracy: 0.7865 - val_precision: 0.8257 - val_recall: 0.9045 - lr: 1.0000e-04\n",
      "Epoch 19/50\n",
      "131/131 [==============================] - 28s 207ms/step - loss: 0.3512 - accuracy: 0.8452 - precision: 0.8605 - recall: 0.9448 - val_loss: 0.4579 - val_accuracy: 0.7913 - val_precision: 0.8179 - val_recall: 0.9216 - lr: 1.0000e-04\n",
      "Epoch 20/50\n",
      "131/131 [==============================] - 28s 207ms/step - loss: 0.3466 - accuracy: 0.8478 - precision: 0.8629 - recall: 0.9454 - val_loss: 0.4892 - val_accuracy: 0.7894 - val_precision: 0.8166 - val_recall: 0.9219 - lr: 1.0000e-04\n",
      "Epoch 21/50\n",
      "131/131 [==============================] - 28s 207ms/step - loss: 0.3396 - accuracy: 0.8507 - precision: 0.8660 - recall: 0.9455 - val_loss: 0.4672 - val_accuracy: 0.7981 - val_precision: 0.8341 - val_recall: 0.9042 - lr: 1.0000e-04\n",
      "Epoch 22/50\n",
      "131/131 [==============================] - ETA: 0s - loss: 0.3305 - accuracy: 0.8581 - precision: 0.8726 - recall: 0.9478\n",
      "Epoch 22: ReduceLROnPlateau reducing learning rate to 1.0000000474974514e-05.\n",
      "131/131 [==============================] - 28s 207ms/step - loss: 0.3305 - accuracy: 0.8581 - precision: 0.8726 - recall: 0.9478 - val_loss: 0.4884 - val_accuracy: 0.7865 - val_precision: 0.8174 - val_recall: 0.9120 - lr: 1.0000e-04\n",
      "Epoch 23/50\n",
      "131/131 [==============================] - 28s 207ms/step - loss: 0.3196 - accuracy: 0.8624 - precision: 0.8730 - recall: 0.9534 - val_loss: 0.4833 - val_accuracy: 0.7817 - val_precision: 0.8238 - val_recall: 0.8975 - lr: 1.0000e-05\n",
      "Epoch 24/50\n",
      "131/131 [==============================] - 28s 206ms/step - loss: 0.3168 - accuracy: 0.8669 - precision: 0.8777 - recall: 0.9534 - val_loss: 0.4943 - val_accuracy: 0.7827 - val_precision: 0.8245 - val_recall: 0.8937 - lr: 1.0000e-05\n",
      "Epoch 25/50\n",
      "131/131 [==============================] - 28s 207ms/step - loss: 0.3103 - accuracy: 0.8717 - precision: 0.8824 - recall: 0.9548 - val_loss: 0.4750 - val_accuracy: 0.7933 - val_precision: 0.8349 - val_recall: 0.9006 - lr: 1.0000e-05\n",
      "Epoch 26/50\n",
      "131/131 [==============================] - 28s 206ms/step - loss: 0.3141 - accuracy: 0.8671 - precision: 0.8792 - recall: 0.9522 - val_loss: 0.4984 - val_accuracy: 0.7856 - val_precision: 0.8213 - val_recall: 0.9025 - lr: 1.0000e-05\n",
      "Epoch 27/50\n",
      "131/131 [==============================] - ETA: 0s - loss: 0.3125 - accuracy: 0.8700 - precision: 0.8802 - recall: 0.9547Restoring model weights from the end of the best epoch: 17.\n",
      "\n",
      "Epoch 27: ReduceLROnPlateau reducing learning rate to 1.0000000656873453e-06.\n",
      "131/131 [==============================] - 28s 207ms/step - loss: 0.3125 - accuracy: 0.8700 - precision: 0.8802 - recall: 0.9547 - val_loss: 0.4935 - val_accuracy: 0.7837 - val_precision: 0.8256 - val_recall: 0.8920 - lr: 1.0000e-05\n",
      "Epoch 27: early stopping\n"
     ]
    }
   ],
   "source": [
    "history = model.fit(train_data,\n",
    "                    epochs=50,\n",
    "                    verbose=1,\n",
    "                    callbacks=[early_stopping, reduce_lr],\n",
    "                    validation_data=val_data,\n",
    "                    shuffle=True)"
   ]
  },
  {
   "cell_type": "code",
   "execution_count": 13,
   "metadata": {},
   "outputs": [
    {
     "name": "stderr",
     "output_type": "stream",
     "text": [
      "WARNING:absl:Found untraced functions such as _jit_compiled_convolution_op, _jit_compiled_convolution_op, _jit_compiled_convolution_op while saving (showing 3 of 3). These functions will not be directly callable after loading.\n"
     ]
    },
    {
     "name": "stdout",
     "output_type": "stream",
     "text": [
      "INFO:tensorflow:Assets written to: rsna_simple_cnn_30_July_2022/assets\n"
     ]
    },
    {
     "name": "stderr",
     "output_type": "stream",
     "text": [
      "INFO:tensorflow:Assets written to: rsna_simple_cnn_30_July_2022/assets\n"
     ]
    }
   ],
   "source": [
    "model.save('rsna_simple_cnn_30_July_2022', overwrite=False, include_optimizer=True)"
   ]
  },
  {
   "cell_type": "code",
   "execution_count": 14,
   "metadata": {},
   "outputs": [],
   "source": [
    "train_precision = asarray(history.history['precision'])\n",
    "train_recall = asarray(history.history['recall'])\n",
    "val_precision = asarray(history.history['val_precision'])\n",
    "val_recall = asarray(history.history['val_recall'])\n",
    "train_f1 = 2./(1./train_precision+1./train_recall)\n",
    "val_f1 = 2./(1./val_precision+1./val_recall)"
   ]
  },
  {
   "cell_type": "code",
   "execution_count": 15,
   "metadata": {},
   "outputs": [],
   "source": [
    "epochs = range(len(history.history['loss']))"
   ]
  },
  {
   "cell_type": "code",
   "execution_count": 16,
   "metadata": {},
   "outputs": [
    {
     "name": "stdout",
     "output_type": "stream",
     "text": [
      "Train precision:  0.8802253603935242\n",
      "Train recall:  0.9546624422073364\n",
      "Validation precision:  0.8256097435951233\n",
      "Vlaidation recall:  0.8919631242752075\n",
      "F1 score in train set:  0.9159340326476706\n",
      "F1 score on validation set:  0.8575047499932389\n"
     ]
    }
   ],
   "source": [
    "print(\"Train precision: \", train_precision[-1])\n",
    "print(\"Train recall: \", train_recall[-1])\n",
    "print(\"Validation precision: \", val_precision[-1])\n",
    "print(\"Vlaidation recall: \", val_recall[-1])\n",
    "print(\"F1 score in train set: \", train_f1[-1])\n",
    "print(\"F1 score on validation set: \", val_f1[-1])"
   ]
  },
  {
   "cell_type": "code",
   "execution_count": 17,
   "metadata": {},
   "outputs": [
    {
     "data": {
      "image/png": "[encoded data removed]",
      "text/plain": [
       "<Figure size 432x288 with 1 Axes>"
      ]
     },
     "metadata": {
      "needs_background": "light"
     },
     "output_type": "display_data"
    }
   ],
   "source": [
    "plt.figure()\n",
    "plt.plot(epochs, train_f1, 'r', label='Train F1 score')\n",
    "plt.plot(epochs, val_f1, 'b', label='Validation F1 score')\n",
    "plt.title('Train and validation F1 scores')\n",
    "plt.legend()\n",
    "plt.show()"
   ]
  },
  {
   "cell_type": "code",
   "execution_count": 18,
   "metadata": {},
   "outputs": [
    {
     "data": {
      "image/png": "[encoded data removed]",
      "text/plain": [
       "<Figure size 432x288 with 1 Axes>"
      ]
     },
     "metadata": {
      "needs_background": "light"
     },
     "output_type": "display_data"
    }
   ],
   "source": [
    "loss = history.history['loss']\n",
    "val_loss = history.history['val_loss']\n",
    "plt.figure()\n",
    "plt.plot(epochs, loss, 'r', label='Training loss')\n",
    "plt.plot(epochs, val_loss, 'b', label='Validation loss')\n",
    "plt.title('Training and validation loss')\n",
    "plt.legend()\n",
    "plt.show()"
   ]
  },
  {
   "cell_type": "code",
   "execution_count": 19,
   "metadata": {},
   "outputs": [
    {
     "data": {
      "image/png": "[encoded data removed]",
      "text/plain": [
       "<Figure size 432x288 with 1 Axes>"
      ]
     },
     "metadata": {
      "needs_background": "light"
     },
     "output_type": "display_data"
    }
   ],
   "source": [
    "acc = history.history['accuracy']\n",
    "val_acc = history.history['val_accuracy']\n",
    "plt.figure()\n",
    "plt.plot(epochs, acc, 'r', label='Training accuracy')\n",
    "plt.plot(epochs, val_acc, 'b', label='Validation accuracy')\n",
    "plt.title('Training and validation accuracy')\n",
    "plt.legend()\n",
    "plt.show()"
   ]
  },
  {
   "cell_type": "code",
   "execution_count": 20,
   "metadata": {},
   "outputs": [
    {
     "name": "stdout",
     "output_type": "stream",
     "text": [
      "20/20 [==============================] - 2s 65ms/step - loss: 0.5809 - accuracy: 0.7404 - precision: 0.7446 - recall: 0.8897\n"
     ]
    }
   ],
   "source": [
    "test_history = model.evaluate(test_data,\n",
    "                              verbose=1)"
   ]
  },
  {
   "cell_type": "code",
   "execution_count": 21,
   "metadata": {},
   "outputs": [],
   "source": [
    "test_acc = test_history[1]\n",
    "test_precision = test_history[2]\n",
    "test_recall = test_history[3]\n",
    "test_f1 = 2./(1./test_precision+1./test_recall)"
   ]
  },
  {
   "cell_type": "code",
   "execution_count": 22,
   "metadata": {},
   "outputs": [
    {
     "name": "stdout",
     "output_type": "stream",
     "text": [
      "Test accuracy:  0.7403846383094788\n",
      "Test precision:  0.7446351647377014\n",
      "Test recall:  0.8897436261177063\n",
      "F1 score on test set:  0.8107476618216738\n"
     ]
    }
   ],
   "source": [
    "print(\"Test accuracy: \", test_acc)\n",
    "print(\"Test precision: \", test_precision)\n",
    "print(\"Test recall: \", test_recall)\n",
    "print(\"F1 score on test set: \", test_f1)"
   ]
  }
 ],
 "metadata": {
  "kernelspec": {
   "display_name": "Python 3.10.5 ('harvard-tensorflow')",
   "language": "python",
   "name": "python3"
  },
  "language_info": {
   "codemirror_mode": {
    "name": "ipython",
    "version": 3
   },
   "file_extension": ".py",
   "mimetype": "text/x-python",
   "name": "python",
   "nbconvert_exporter": "python",
   "pygments_lexer": "ipython3",
   "version": "3.10.5"
  },
  "orig_nbformat": 4,
  "vscode": {
   "interpreter": {
    "hash": "a2471f961d196a5250c1705a45800dbb19a75062825d6ee7e8f8d9985c6140c7"
   }
  }
 },
 "nbformat": 4,
 "nbformat_minor": 2
}
